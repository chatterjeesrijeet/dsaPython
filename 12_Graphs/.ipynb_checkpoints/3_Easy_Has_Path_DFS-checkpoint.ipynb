{
 "cells": [
  {
   "cell_type": "code",
   "execution_count": 4,
   "metadata": {},
   "outputs": [],
   "source": [
    "import queue\n",
    "class Graph:\n",
    "    \n",
    "    def __init__(self,n):\n",
    "        self.n = n \n",
    "        self.mat = [[-1 for i in range(n)] for j in range(n)]\n",
    "        \n",
    "    def addEdge(self,v1,v2):\n",
    "        if self.mat[v1][v2] != 1:\n",
    "            self.mat[v1][v2] = 1\n",
    "            self.mat[v2][v1] = 1\n",
    "            \n",
    "    def removeEdge(self,v1,v2):\n",
    "        if self.mat[v1][v2] == 1:\n",
    "            self.mat[v1][v2] = -1\n",
    "            self.mat[v2][v1] = -1\n",
    "    \n",
    "    def __str__(self):\n",
    "        return str(self.mat)\n",
    "    \n",
    "    def hasPath(self,v1,v2):\n",
    "        \n",
    "        visited = [-1 for i in range(self.n)]\n",
    "        q = queue.Queue()\n",
    "        q.put(v1)\n",
    "        \n",
    "        while q.empty() != True:\n",
    "            popped = q.get()\n",
    "            directReachableList = self.mat[popped]\n",
    "            \n",
    "            for j in range(self.n):\n",
    "                \n",
    "                if directReachableList[j] == 1 and visited[j] != 1:\n",
    "                    if j == v2:\n",
    "                        return True\n",
    "                    q.put(j)\n",
    "                    visited[j] = 1\n",
    "        return False\n",
    "        "
   ]
  },
  {
   "cell_type": "code",
   "execution_count": 5,
   "metadata": {},
   "outputs": [
    {
     "name": "stdout",
     "output_type": "stream",
     "text": [
      "\n",
      "------------- After adding the edges the graph -------\n",
      "\n",
      "[[-1, 1, 1, 1, -1, -1], [1, -1, -1, -1, 1, -1], [1, -1, -1, 1, -1, -1], [1, -1, 1, -1, 1, -1], [-1, 1, -1, 1, -1, -1], [-1, -1, -1, -1, -1, -1]]\n",
      "\n",
      "------------- hasPath -------\n",
      "\n",
      "True\n",
      "True\n",
      "False\n"
     ]
    }
   ],
   "source": [
    "g = Graph(6)\n",
    "\n",
    "g.addEdge(0,1)\n",
    "g.addEdge(0,2)\n",
    "g.addEdge(0,3)\n",
    "g.addEdge(2,3)\n",
    "g.addEdge(1,4)\n",
    "g.addEdge(3,4)\n",
    "\n",
    "print(\"\\n------------- After adding the edges the graph -------\\n\")\n",
    "print(g)\n",
    "\n",
    "\n",
    "print(\"\\n------------- hasPath -------\\n\")\n",
    "print(g.hasPath(0,2))\n",
    "print(g.hasPath(1,2))\n",
    "print(g.hasPath(1,5))"
   ]
  },
  {
   "cell_type": "code",
   "execution_count": null,
   "metadata": {},
   "outputs": [],
   "source": []
  }
 ],
 "metadata": {
  "kernelspec": {
   "display_name": "Python 3",
   "language": "python",
   "name": "python3"
  },
  "language_info": {
   "codemirror_mode": {
    "name": "ipython",
    "version": 3
   },
   "file_extension": ".py",
   "mimetype": "text/x-python",
   "name": "python",
   "nbconvert_exporter": "python",
   "pygments_lexer": "ipython3",
   "version": "3.8.6"
  }
 },
 "nbformat": 4,
 "nbformat_minor": 4
}
