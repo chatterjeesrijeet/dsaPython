{
 "cells": [
  {
   "cell_type": "markdown",
   "metadata": {},
   "source": [
    "### code to shift the arr by k units"
   ]
  },
  {
   "cell_type": "code",
   "execution_count": 4,
   "metadata": {},
   "outputs": [],
   "source": [
    "def shiftKunits(arr,k):\n",
    "    while k > 0 :\n",
    "        shiftOneunit(arr)\n",
    "        k -= 1"
   ]
  },
  {
   "cell_type": "code",
   "execution_count": 5,
   "metadata": {},
   "outputs": [],
   "source": [
    "def shiftOneunit(arr):\n",
    "    lastIdx = len(arr)-1\n",
    "    temp = arr[lastIdx]\n",
    "    i = lastIdx - 1\n",
    "    \n",
    "    while i >= 0 :\n",
    "        arr[i + 1] = arr[i]\n",
    "        i -= 1\n",
    "    arr[0] = temp    "
   ]
  },
  {
   "cell_type": "code",
   "execution_count": 8,
   "metadata": {},
   "outputs": [
    {
     "name": "stdout",
     "output_type": "stream",
     "text": [
      "[29, 30, 2, 9, 11, 19, 21, 25, 26]\n"
     ]
    }
   ],
   "source": [
    "arr = [2,9,11,19,21,25,26,29,30]\n",
    "shiftKunits(arr,2)\n",
    "print(arr)"
   ]
  },
  {
   "cell_type": "code",
   "execution_count": 13,
   "metadata": {},
   "outputs": [
    {
     "name": "stdout",
     "output_type": "stream",
     "text": [
      "[2, 9, 11, 19, 21, 25, 26, 29, 30]\n",
      "[30, 2, 9, 11, 19, 21, 25, 26, 29]\n",
      "[29, 30, 2, 9, 11, 19, 21, 25, 26]\n",
      "[26, 29, 30, 2, 9, 11, 19, 21, 25]\n",
      "[25, 26, 29, 30, 2, 9, 11, 19, 21]\n",
      "[21, 25, 26, 29, 30, 2, 9, 11, 19]\n",
      "[19, 21, 25, 26, 29, 30, 2, 9, 11]\n",
      "[11, 19, 21, 25, 26, 29, 30, 2, 9]\n",
      "[9, 11, 19, 21, 25, 26, 29, 30, 2]\n"
     ]
    }
   ],
   "source": [
    "n = 9\n",
    "for i in range(n):\n",
    "    arr = [2,9,11,19,21,25,26,29,30]\n",
    "    shiftKunits(arr,i)\n",
    "    print(arr)"
   ]
  },
  {
   "cell_type": "markdown",
   "metadata": {},
   "source": [
    "       The point is after shift you will always\n",
    "        \n",
    "        \"either have sorted left or sorted right array from middle index.\" "
   ]
  },
  {
   "cell_type": "markdown",
   "metadata": {},
   "source": [
    "### Code for the Shifted Binary Search "
   ]
  },
  {
   "cell_type": "code",
   "execution_count": null,
   "metadata": {},
   "outputs": [],
   "source": [
    "arr = [ 21,25,26,29,30,2,9,11,19]"
   ]
  },
  {
   "cell_type": "code",
   "execution_count": 55,
   "metadata": {},
   "outputs": [],
   "source": [
    "def shiftedBinarySearch(arr,X):\n",
    "    \n",
    "    si, ei = 0, (len(arr)-1)\n",
    "    \n",
    "    while si <= ei:\n",
    "        \n",
    "        mid = (si + ei)//2\n",
    "        \n",
    "        if arr[mid] == X:\n",
    "            return mid\n",
    "        \n",
    "        #'''Case A : \"left half is sorted \" '''\n",
    "        elif arr[si] <= arr[mid]:           \n",
    "            '''check whether X in the left half or not'''\n",
    "            if X >= arr[si] and X <= arr[mid]:\n",
    "                ei = mid-1\n",
    "            else:\n",
    "                si = mid+1\n",
    "        \n",
    "        #'''Case B : Right half is sorted '''\n",
    "        else:\n",
    "            '''check whether X in the right half or not'''\n",
    "            if X >= arr[mid] and X <= arr[ei]:\n",
    "                si = mid + 1\n",
    "            else:\n",
    "                ei = mid-1\n",
    "    return -1"
   ]
  },
  {
   "cell_type": "code",
   "execution_count": 57,
   "metadata": {},
   "outputs": [
    {
     "name": "stdout",
     "output_type": "stream",
     "text": [
      "2\n"
     ]
    }
   ],
   "source": [
    "arr = [21, 25, 26, 29, 30, 2, 9, 11, 19]\n",
    "idx = shiftedBinarySearch(arr,26)\n",
    "print(idx)"
   ]
  },
  {
   "cell_type": "code",
   "execution_count": 58,
   "metadata": {},
   "outputs": [
    {
     "name": "stdout",
     "output_type": "stream",
     "text": [
      "7\n"
     ]
    }
   ],
   "source": [
    "arr = [21, 25, 26, 29, 30, 2, 9, 11, 19]\n",
    "idx = shiftedBinarySearch(arr,11)\n",
    "print(idx)"
   ]
  },
  {
   "cell_type": "code",
   "execution_count": 43,
   "metadata": {},
   "outputs": [
    {
     "name": "stdout",
     "output_type": "stream",
     "text": [
      "1\n"
     ]
    }
   ],
   "source": [
    "arr = [19,23]\n",
    "idx = shiftedBinarySearch(arr,23)\n",
    "print(idx)"
   ]
  },
  {
   "cell_type": "code",
   "execution_count": null,
   "metadata": {},
   "outputs": [],
   "source": []
  },
  {
   "cell_type": "code",
   "execution_count": null,
   "metadata": {},
   "outputs": [],
   "source": []
  },
  {
   "cell_type": "code",
   "execution_count": null,
   "metadata": {},
   "outputs": [],
   "source": []
  },
  {
   "cell_type": "code",
   "execution_count": null,
   "metadata": {},
   "outputs": [],
   "source": []
  },
  {
   "cell_type": "code",
   "execution_count": null,
   "metadata": {},
   "outputs": [],
   "source": []
  },
  {
   "cell_type": "code",
   "execution_count": null,
   "metadata": {},
   "outputs": [],
   "source": []
  },
  {
   "cell_type": "code",
   "execution_count": null,
   "metadata": {},
   "outputs": [],
   "source": []
  },
  {
   "cell_type": "code",
   "execution_count": null,
   "metadata": {},
   "outputs": [],
   "source": []
  },
  {
   "cell_type": "code",
   "execution_count": null,
   "metadata": {},
   "outputs": [],
   "source": []
  }
 ],
 "metadata": {
  "kernelspec": {
   "display_name": "Python 3",
   "language": "python",
   "name": "python3"
  },
  "language_info": {
   "codemirror_mode": {
    "name": "ipython",
    "version": 3
   },
   "file_extension": ".py",
   "mimetype": "text/x-python",
   "name": "python",
   "nbconvert_exporter": "python",
   "pygments_lexer": "ipython3",
   "version": "3.8.6"
  }
 },
 "nbformat": 4,
 "nbformat_minor": 4
}
