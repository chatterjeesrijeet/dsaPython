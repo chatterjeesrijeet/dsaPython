{
 "cells": [
  {
   "cell_type": "code",
   "execution_count": 4,
   "metadata": {},
   "outputs": [],
   "source": [
    "class stackNode:\n",
    "    \n",
    "    def __init__(self,val):\n",
    "        self.val = val\n",
    "        self.next = None"
   ]
  },
  {
   "cell_type": "code",
   "execution_count": 8,
   "metadata": {},
   "outputs": [],
   "source": [
    "class Stack:\n",
    "    \n",
    "    def __init__(self):\n",
    "        self.top = None\n",
    "        self.count = 0\n",
    "        \n",
    "    def push(self,data):\n",
    "        \n",
    "        newNode = stackNode(data)\n",
    "        if self.top == None:\n",
    "            self.top = newNode\n",
    "        else:\n",
    "            newNode.next = self.top\n",
    "            self.top = newNode\n",
    "        self.count += 1\n",
    "        \n",
    "    def pop(self):\n",
    "        if self.top == None:\n",
    "            return -1\n",
    "        \n",
    "        valuedeleted = self.top.val\n",
    "        self.top = self.top.next\n",
    "        self.count -= 1\n",
    "        return valuedeleted\n",
    "    \n",
    "    def getSize(self):\n",
    "        return self.count\n",
    "    \n",
    "    def isEmpty(self):\n",
    "        return self.count == 0"
   ]
  },
  {
   "cell_type": "code",
   "execution_count": 9,
   "metadata": {},
   "outputs": [],
   "source": [
    "mystack = Stack()"
   ]
  },
  {
   "cell_type": "code",
   "execution_count": 10,
   "metadata": {},
   "outputs": [
    {
     "name": "stdout",
     "output_type": "stream",
     "text": [
      "4\n"
     ]
    }
   ],
   "source": [
    "mystack.push(1)\n",
    "mystack.push(2)\n",
    "mystack.push(3)\n",
    "mystack.push(4)\n",
    "print(mystack.getSize())\n"
   ]
  },
  {
   "cell_type": "code",
   "execution_count": null,
   "metadata": {},
   "outputs": [],
   "source": [
    "print(mystack.pop())"
   ]
  },
  {
   "cell_type": "code",
   "execution_count": null,
   "metadata": {},
   "outputs": [],
   "source": []
  }
 ],
 "metadata": {
  "kernelspec": {
   "display_name": "Python 3",
   "language": "python",
   "name": "python3"
  },
  "language_info": {
   "codemirror_mode": {
    "name": "ipython",
    "version": 3
   },
   "file_extension": ".py",
   "mimetype": "text/x-python",
   "name": "python",
   "nbconvert_exporter": "python",
   "pygments_lexer": "ipython3",
   "version": "3.8.6"
  }
 },
 "nbformat": 4,
 "nbformat_minor": 4
}
