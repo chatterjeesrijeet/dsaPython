{
 "cells": [
  {
   "cell_type": "markdown",
   "metadata": {},
   "source": [
    "## Linked List Creation with Basic Operations"
   ]
  },
  {
   "cell_type": "markdown",
   "metadata": {},
   "source": [
    "### Single Linked List"
   ]
  },
  {
   "cell_type": "code",
   "execution_count": 147,
   "metadata": {},
   "outputs": [],
   "source": [
    "class Node:\n",
    "    \n",
    "    def __init__(self,value):\n",
    "        self.value = value\n",
    "        self.next = None"
   ]
  },
  {
   "cell_type": "code",
   "execution_count": 151,
   "metadata": {},
   "outputs": [],
   "source": [
    "def userinput():\n",
    "    \n",
    "    node_values = [int(x) for x in input().strip().split()]\n",
    "    \n",
    "    head,tail = None, None\n",
    "    \n",
    "    for value in node_values:\n",
    "        if value == -1:\n",
    "            break\n",
    "            \n",
    "        newNode = Node(value)\n",
    "\n",
    "        if head == None:\n",
    "            head,tail = newNode,newNode\n",
    "        else:\n",
    "            tail.next = newNode\n",
    "            tail = tail.next\n",
    "    return head"
   ]
  },
  {
   "cell_type": "code",
   "execution_count": 155,
   "metadata": {},
   "outputs": [],
   "source": [
    "def printLL(head):\n",
    "    \n",
    "    while head is not None:\n",
    "        print(head.value, end = ' --> ')\n",
    "        head = head.next\n",
    "    print(\"End\")"
   ]
  },
  {
   "cell_type": "code",
   "execution_count": 156,
   "metadata": {},
   "outputs": [
    {
     "name": "stdout",
     "output_type": "stream",
     "text": [
      "11 23 4 17 9 5 12 -1\n"
     ]
    }
   ],
   "source": [
    "head = userinput()"
   ]
  },
  {
   "cell_type": "code",
   "execution_count": 157,
   "metadata": {},
   "outputs": [
    {
     "name": "stdout",
     "output_type": "stream",
     "text": [
      "11 --> 23 --> 4 --> 17 --> 9 --> 5 --> 12 --> End\n"
     ]
    }
   ],
   "source": [
    "printLL(head)"
   ]
  },
  {
   "cell_type": "markdown",
   "metadata": {},
   "source": [
    "#### lets create a class out of it single LL class : "
   ]
  },
  {
   "cell_type": "code",
   "execution_count": 161,
   "metadata": {},
   "outputs": [],
   "source": [
    "class singleLL:\n",
    "    \n",
    "    def __init__(self):\n",
    "        self.head = None\n",
    "    \n",
    "    def userinput(self):\n",
    "        node_values = [int(x) for x in input().strip().split()]\n",
    "        self.head,tail = None, None\n",
    "\n",
    "        for value in node_values:\n",
    "            if value == -1:\n",
    "                break\n",
    "\n",
    "            newNode = Node(value)\n",
    "\n",
    "            if self.head == None:\n",
    "                self.head,tail = newNode,newNode\n",
    "            else:\n",
    "                tail.next = newNode\n",
    "                tail = tail.next\n",
    "    \n",
    "    \n",
    "    def printLL(self):\n",
    "        temp = self.head\n",
    "        while temp is not None:\n",
    "            print(temp.value, end = ' --> ')\n",
    "            temp = temp.next\n",
    "        print(\"End\")   \n",
    "    "
   ]
  },
  {
   "cell_type": "code",
   "execution_count": 162,
   "metadata": {},
   "outputs": [
    {
     "name": "stdout",
     "output_type": "stream",
     "text": [
      "11 23 4 17 9 5 12 -1\n",
      "11 --> 23 --> 4 --> 17 --> 9 --> 5 --> 12 --> End\n"
     ]
    }
   ],
   "source": [
    "sll = singleLL()\n",
    "sll.userinput()\n",
    "sll.printLL()"
   ]
  },
  {
   "cell_type": "markdown",
   "metadata": {},
   "source": [
    "       Works perfectly fine.\n",
    "       \n",
    "       >> we will now keep on modifying this class functions only as per the problems \n",
    "       >> For example if we need to write a function for finding length we will add a class function doing exactly that  "
   ]
  },
  {
   "cell_type": "code",
   "execution_count": null,
   "metadata": {},
   "outputs": [],
   "source": []
  },
  {
   "cell_type": "code",
   "execution_count": null,
   "metadata": {},
   "outputs": [],
   "source": []
  },
  {
   "cell_type": "code",
   "execution_count": null,
   "metadata": {},
   "outputs": [],
   "source": []
  },
  {
   "cell_type": "code",
   "execution_count": null,
   "metadata": {},
   "outputs": [],
   "source": []
  },
  {
   "cell_type": "code",
   "execution_count": null,
   "metadata": {},
   "outputs": [],
   "source": []
  },
  {
   "cell_type": "markdown",
   "metadata": {},
   "source": [
    "### Doubly linked list "
   ]
  },
  {
   "cell_type": "code",
   "execution_count": 1,
   "metadata": {},
   "outputs": [],
   "source": [
    "class Node():\n",
    "    def __init__(self,data):\n",
    "        self.data = data\n",
    "        self.next = None\n",
    "        self.prev = None"
   ]
  },
  {
   "cell_type": "code",
   "execution_count": 4,
   "metadata": {},
   "outputs": [],
   "source": [
    "n1 = Node(23)\n",
    "n2 = Node(34)\n",
    "n3 = Node(44)\n",
    "n1.next = n2\n",
    "n2.next = n3\n",
    "n3.next = None\n",
    "n3.prev = n2\n",
    "n2.prev = n1\n",
    "n1.prev = None\n",
    "\n",
    "head = n1"
   ]
  },
  {
   "cell_type": "code",
   "execution_count": 27,
   "metadata": {},
   "outputs": [],
   "source": [
    "class DoublyLinkedList():\n",
    "    \n",
    "    def __init__(self):\n",
    "        self.head = None\n",
    "        self.tail = None\n",
    "    \n",
    "    def printLL(self):\n",
    "        \n",
    "        temp = self.head \n",
    "        while temp != None:\n",
    "            print(temp.data,end = ' --> ')\n",
    "            temp = temp.next\n",
    "        print(\"End\")\n",
    "    \n",
    "    def printLLRev(self):\n",
    "        \n",
    "        temp = self.tail \n",
    "        while temp != None:\n",
    "            print(temp.data,end = ' --> ')\n",
    "            temp = temp.prev\n",
    "        print('Start')"
   ]
  },
  {
   "cell_type": "code",
   "execution_count": 28,
   "metadata": {},
   "outputs": [],
   "source": [
    "dll = DoublyLinkedList()"
   ]
  },
  {
   "cell_type": "code",
   "execution_count": 29,
   "metadata": {},
   "outputs": [],
   "source": [
    "dll.head = n1\n",
    "dll.tail = n3"
   ]
  },
  {
   "cell_type": "code",
   "execution_count": 30,
   "metadata": {},
   "outputs": [
    {
     "name": "stdout",
     "output_type": "stream",
     "text": [
      "23 --> 34 --> 44 --> End\n"
     ]
    }
   ],
   "source": [
    "dll.printLL()"
   ]
  },
  {
   "cell_type": "code",
   "execution_count": 31,
   "metadata": {},
   "outputs": [
    {
     "name": "stdout",
     "output_type": "stream",
     "text": [
      "44 --> 34 --> 23 --> Start\n"
     ]
    }
   ],
   "source": [
    "dll.printLLRev()"
   ]
  },
  {
   "cell_type": "markdown",
   "metadata": {},
   "source": [
    "------------lets now write a function to create a doubly linkedlist from user input as that will be used later----"
   ]
  },
  {
   "cell_type": "code",
   "execution_count": 41,
   "metadata": {},
   "outputs": [],
   "source": [
    "def UserInput():\n",
    "    \n",
    "    arr = [int(x) for x in input().strip().split()]\n",
    "    \n",
    "    head, tail = None, None \n",
    "    \n",
    "    for val in arr:\n",
    "        \n",
    "        if val == -1:\n",
    "            break \n",
    "        else:\n",
    "            newNode = Node(val)\n",
    "\n",
    "            if head == None:\n",
    "                head = newNode\n",
    "                tail = newNode\n",
    "            else:\n",
    "                newNode.prev = tail\n",
    "                tail.next = newNode\n",
    "                tail = tail.next\n",
    "    \n",
    "    dll = DoublyLinkedList()\n",
    "    dll.head = head\n",
    "    dll.tail = tail\n",
    "    \n",
    "    return dll"
   ]
  },
  {
   "cell_type": "code",
   "execution_count": 42,
   "metadata": {},
   "outputs": [
    {
     "name": "stdout",
     "output_type": "stream",
     "text": [
      "0 7 11 -12 8 -1\n",
      "0 --> 7 --> 11 --> -12 --> 8 --> End\n"
     ]
    }
   ],
   "source": [
    "dll = UserInput()\n",
    "dll.printLL()"
   ]
  },
  {
   "cell_type": "markdown",
   "metadata": {},
   "source": [
    "      ------------------ Complete doubly Linkedlist class -------------> "
   ]
  },
  {
   "cell_type": "raw",
   "metadata": {},
   "source": [
    "\n",
    "\n",
    "     1. user gives a set of nodes for the doubly linkedList :  This is your base double Linked List\n",
    "     2. Then you will call functions from the doubly linkledList like insert a node , delete a node \n",
    "     3. \n",
    "    "
   ]
  },
  {
   "cell_type": "code",
   "execution_count": 108,
   "metadata": {},
   "outputs": [],
   "source": [
    "class Node:\n",
    "    def __init__(self,value):\n",
    "        self.value = value\n",
    "        self.prev = None\n",
    "        self.next = None"
   ]
  },
  {
   "cell_type": "code",
   "execution_count": 112,
   "metadata": {},
   "outputs": [],
   "source": [
    "class DoublyLinkedList:\n",
    "    \n",
    "    def __init__(self):\n",
    "        self.head = None\n",
    "        self.tail = None\n",
    "        \n",
    "    \n",
    "    def insertBefore(self,value,valueToInsert):\n",
    "        \n",
    "        if self.head == None:\n",
    "            print(\"LinkedList is empty so can not insert !!!\")\n",
    "            return -1\n",
    "        \n",
    "        temp = self.head\n",
    "        \n",
    "        while temp != None and temp.value != value:\n",
    "            temp = temp.next\n",
    "        \n",
    "        if temp != None:\n",
    "            newNode = Node(valueToInsert)\n",
    "            newNode.next = temp\n",
    "            newNode.prev = temp.prev\n",
    "            temp.prev = newNode\n",
    "\n",
    "            if temp == self.head:\n",
    "                self.head = newNode\n",
    "            else:\n",
    "                newNode.prev.next = newNode\n",
    "                \n",
    "    \n",
    "    def insertAfter(self,value,valueToInsert):\n",
    "        \n",
    "        if self.head == None:\n",
    "            print(\"LinkedList is empty so can not insert !!!\")\n",
    "            return -1\n",
    "        \n",
    "        temp = self.head\n",
    "        \n",
    "        while temp != None and temp.value != value:\n",
    "            temp = temp.next\n",
    "        \n",
    "        if temp != None:\n",
    "            newNode = Node(valueToInsert)\n",
    "            \n",
    "            newNode.next = temp.next\n",
    "            newNode.prev = temp\n",
    "            temp.next = newNode\n",
    "\n",
    "            if temp == self.tail:\n",
    "                self.tail = newNode\n",
    "            else:\n",
    "                newNode.next.prev = newNode\n",
    "    \n",
    "    \n",
    "    def insertAtPosition(self,position,valueToInsert):\n",
    "        \n",
    "        if self.head == None:\n",
    "            print(\"Sorry but the List is empty so you can not enter!!!\")\n",
    "            return -1\n",
    "        \n",
    "        pos = 0 \n",
    "        temp = self.head\n",
    "        \n",
    "        while temp != None and pos != position:\n",
    "            pos += 1\n",
    "            temp = temp.next\n",
    "            \n",
    "        if temp == None:\n",
    "            print('LL is shorter than the position !!!')\n",
    "            return -1\n",
    "        \n",
    "        newNode = Node(valueToInsert)\n",
    "        \n",
    "        newNode.next = temp\n",
    "        newNode.prev = temp.prev\n",
    "        \n",
    "        if temp.prev != None:\n",
    "            temp.prev.next = newNode\n",
    "        \n",
    "        temp.prev = newNode\n",
    "        \n",
    "        if temp == self.head :\n",
    "            self.head = newNode\n",
    "\n",
    "    def deleteNodewithValue(self,value):\n",
    "        \n",
    "        # LL empty check \n",
    "        if self.head == None:\n",
    "            print(\"The LL itself is empty so cannot delete anything\")\n",
    "            return -1\n",
    "        \n",
    "        #traverse the LL for checking the exact node\n",
    "        temp = self.head \n",
    "        \n",
    "        while temp != None and temp.value != value:\n",
    "            temp = temp.next\n",
    "        \n",
    "        #node is not present at all\n",
    "        if temp is None:\n",
    "            print(\"Value is not present in the LL\")\n",
    "            return -1\n",
    "        \n",
    "        #### Node is present\n",
    "        #scenario 1 :  its a head node\n",
    "        if temp == self.head:\n",
    "            temp.next.prev = None\n",
    "            self.head = temp.next\n",
    "            temp.next = None\n",
    "        #scenario 2 : its a tail node\n",
    "        elif temp == self.tail:\n",
    "            temp.prev.next = None\n",
    "            self.tail = temp.prev\n",
    "            temp.prev = None\n",
    "            \n",
    "        #scenario 3 : its normal node \n",
    "        else:\n",
    "            temp.prev.next = temp.next\n",
    "            temp.next.prev = temp.prev\n",
    "        \n",
    "    def containsNodewithValue(self,value):\n",
    "        temp = self.head\n",
    "        while temp != None:\n",
    "            if temp.value == value:\n",
    "                return True\n",
    "            temp = temp.next\n",
    "        return False\n",
    "    \n",
    "    def printLL(self):\n",
    "        \n",
    "        temp = self.head \n",
    "        while temp != None:\n",
    "            print(temp.value,end = ' --> ')\n",
    "            temp = temp.next\n",
    "        print(\"End\")"
   ]
  },
  {
   "cell_type": "code",
   "execution_count": 113,
   "metadata": {},
   "outputs": [],
   "source": [
    "def UserInput():\n",
    "    \n",
    "    arr = [int(x) for x in input().strip().split()]\n",
    "    \n",
    "    head, tail = None, None \n",
    "    \n",
    "    for val in arr:\n",
    "        \n",
    "        if val == -1:\n",
    "            break \n",
    "        else:\n",
    "            newNode = Node(val)\n",
    "\n",
    "            if head == None:\n",
    "                head = newNode\n",
    "                tail = newNode\n",
    "            else:\n",
    "                newNode.prev = tail\n",
    "                tail.next = newNode\n",
    "                tail = tail.next\n",
    "    \n",
    "    dll = DoublyLinkedList()\n",
    "    dll.head = head\n",
    "    dll.tail = tail\n",
    "    \n",
    "    return dll"
   ]
  },
  {
   "cell_type": "code",
   "execution_count": 114,
   "metadata": {},
   "outputs": [
    {
     "name": "stdout",
     "output_type": "stream",
     "text": [
      "11 -1\n"
     ]
    }
   ],
   "source": [
    "dll = UserInput()"
   ]
  },
  {
   "cell_type": "code",
   "execution_count": 115,
   "metadata": {},
   "outputs": [
    {
     "name": "stdout",
     "output_type": "stream",
     "text": [
      "11 --> End\n"
     ]
    }
   ],
   "source": [
    "dll.printLL()"
   ]
  },
  {
   "cell_type": "code",
   "execution_count": 116,
   "metadata": {},
   "outputs": [
    {
     "data": {
      "text/plain": [
       "True"
      ]
     },
     "execution_count": 116,
     "metadata": {},
     "output_type": "execute_result"
    }
   ],
   "source": [
    "dll.containsNodewithValue(11)"
   ]
  },
  {
   "cell_type": "code",
   "execution_count": 117,
   "metadata": {},
   "outputs": [
    {
     "data": {
      "text/plain": [
       "False"
      ]
     },
     "execution_count": 117,
     "metadata": {},
     "output_type": "execute_result"
    }
   ],
   "source": [
    "dll.containsNodewithValue(21)"
   ]
  },
  {
   "cell_type": "code",
   "execution_count": 118,
   "metadata": {},
   "outputs": [],
   "source": [
    "dll.insertBefore(11,2)"
   ]
  },
  {
   "cell_type": "code",
   "execution_count": 119,
   "metadata": {},
   "outputs": [
    {
     "name": "stdout",
     "output_type": "stream",
     "text": [
      "2 --> 11 --> End\n"
     ]
    }
   ],
   "source": [
    "dll.printLL()"
   ]
  },
  {
   "cell_type": "code",
   "execution_count": 120,
   "metadata": {},
   "outputs": [],
   "source": [
    "dll.insertBefore(11,21)"
   ]
  },
  {
   "cell_type": "code",
   "execution_count": 121,
   "metadata": {},
   "outputs": [
    {
     "name": "stdout",
     "output_type": "stream",
     "text": [
      "2 --> 21 --> 11 --> End\n"
     ]
    }
   ],
   "source": [
    "dll.printLL()"
   ]
  },
  {
   "cell_type": "code",
   "execution_count": 122,
   "metadata": {},
   "outputs": [],
   "source": [
    "dll.insertAfter(11,89)"
   ]
  },
  {
   "cell_type": "code",
   "execution_count": 123,
   "metadata": {},
   "outputs": [
    {
     "name": "stdout",
     "output_type": "stream",
     "text": [
      "2 --> 21 --> 11 --> 89 --> End\n"
     ]
    }
   ],
   "source": [
    "dll.printLL()"
   ]
  },
  {
   "cell_type": "code",
   "execution_count": 124,
   "metadata": {},
   "outputs": [],
   "source": [
    "dll.insertAfter(11,8)"
   ]
  },
  {
   "cell_type": "code",
   "execution_count": 125,
   "metadata": {},
   "outputs": [
    {
     "name": "stdout",
     "output_type": "stream",
     "text": [
      "2 --> 21 --> 11 --> 8 --> 89 --> End\n"
     ]
    }
   ],
   "source": [
    "dll.printLL()"
   ]
  },
  {
   "cell_type": "code",
   "execution_count": 126,
   "metadata": {},
   "outputs": [],
   "source": [
    "dll.insertAfter(111,8)"
   ]
  },
  {
   "cell_type": "code",
   "execution_count": 127,
   "metadata": {},
   "outputs": [
    {
     "name": "stdout",
     "output_type": "stream",
     "text": [
      "2 --> 21 --> 11 --> 8 --> 89 --> End\n"
     ]
    }
   ],
   "source": [
    "dll.printLL()"
   ]
  },
  {
   "cell_type": "code",
   "execution_count": 128,
   "metadata": {},
   "outputs": [],
   "source": [
    "dll.insertBefore(1111,221)"
   ]
  },
  {
   "cell_type": "code",
   "execution_count": 129,
   "metadata": {},
   "outputs": [
    {
     "name": "stdout",
     "output_type": "stream",
     "text": [
      "2 --> 21 --> 11 --> 8 --> 89 --> End\n"
     ]
    }
   ],
   "source": [
    "dll.printLL()"
   ]
  },
  {
   "cell_type": "code",
   "execution_count": 130,
   "metadata": {},
   "outputs": [],
   "source": [
    "dll.insertAtPosition(0,-1)"
   ]
  },
  {
   "cell_type": "code",
   "execution_count": 131,
   "metadata": {},
   "outputs": [
    {
     "name": "stdout",
     "output_type": "stream",
     "text": [
      "-1 --> 2 --> 21 --> 11 --> 8 --> 89 --> End\n"
     ]
    }
   ],
   "source": [
    "dll.printLL()"
   ]
  },
  {
   "cell_type": "code",
   "execution_count": 132,
   "metadata": {},
   "outputs": [],
   "source": [
    "dll.insertAtPosition(5,17)"
   ]
  },
  {
   "cell_type": "code",
   "execution_count": 133,
   "metadata": {},
   "outputs": [
    {
     "name": "stdout",
     "output_type": "stream",
     "text": [
      "-1 --> 2 --> 21 --> 11 --> 8 --> 17 --> 89 --> End\n"
     ]
    }
   ],
   "source": [
    "dll.printLL()"
   ]
  },
  {
   "cell_type": "code",
   "execution_count": 134,
   "metadata": {},
   "outputs": [
    {
     "name": "stdout",
     "output_type": "stream",
     "text": [
      "LL is shorter than the position !!!\n"
     ]
    },
    {
     "data": {
      "text/plain": [
       "-1"
      ]
     },
     "execution_count": 134,
     "metadata": {},
     "output_type": "execute_result"
    }
   ],
   "source": [
    "dll.insertAtPosition(7,17)"
   ]
  },
  {
   "cell_type": "code",
   "execution_count": 135,
   "metadata": {},
   "outputs": [],
   "source": [
    "dll.deleteNodewithValue(11)"
   ]
  },
  {
   "cell_type": "code",
   "execution_count": 136,
   "metadata": {},
   "outputs": [
    {
     "name": "stdout",
     "output_type": "stream",
     "text": [
      "-1 --> 2 --> 21 --> 8 --> 17 --> 89 --> End\n"
     ]
    }
   ],
   "source": [
    "dll.printLL()"
   ]
  },
  {
   "cell_type": "code",
   "execution_count": 137,
   "metadata": {},
   "outputs": [
    {
     "name": "stdout",
     "output_type": "stream",
     "text": [
      "Value is not present in the LL\n"
     ]
    },
    {
     "data": {
      "text/plain": [
       "-1"
      ]
     },
     "execution_count": 137,
     "metadata": {},
     "output_type": "execute_result"
    }
   ],
   "source": [
    "dll.deleteNodewithValue(321)"
   ]
  },
  {
   "cell_type": "code",
   "execution_count": 138,
   "metadata": {},
   "outputs": [],
   "source": [
    "dll.deleteNodewithValue(-1)"
   ]
  },
  {
   "cell_type": "code",
   "execution_count": 139,
   "metadata": {},
   "outputs": [
    {
     "name": "stdout",
     "output_type": "stream",
     "text": [
      "2 --> 21 --> 8 --> 17 --> 89 --> End\n"
     ]
    }
   ],
   "source": [
    "dll.printLL()"
   ]
  },
  {
   "cell_type": "code",
   "execution_count": 140,
   "metadata": {},
   "outputs": [],
   "source": [
    "dll.deleteNodewithValue(89)"
   ]
  },
  {
   "cell_type": "code",
   "execution_count": 141,
   "metadata": {},
   "outputs": [
    {
     "name": "stdout",
     "output_type": "stream",
     "text": [
      "2 --> 21 --> 8 --> 17 --> End\n"
     ]
    }
   ],
   "source": [
    "dll.printLL()"
   ]
  },
  {
   "cell_type": "code",
   "execution_count": null,
   "metadata": {},
   "outputs": [],
   "source": []
  }
 ],
 "metadata": {
  "kernelspec": {
   "display_name": "Python 3",
   "language": "python",
   "name": "python3"
  },
  "language_info": {
   "codemirror_mode": {
    "name": "ipython",
    "version": 3
   },
   "file_extension": ".py",
   "mimetype": "text/x-python",
   "name": "python",
   "nbconvert_exporter": "python",
   "pygments_lexer": "ipython3",
   "version": "3.8.6"
  }
 },
 "nbformat": 4,
 "nbformat_minor": 4
}
