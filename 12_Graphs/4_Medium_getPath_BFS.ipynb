{
 "cells": [
  {
   "cell_type": "code",
   "execution_count": 18,
   "metadata": {},
   "outputs": [],
   "source": [
    "import queue"
   ]
  },
  {
   "cell_type": "code",
   "execution_count": 34,
   "metadata": {},
   "outputs": [],
   "source": [
    "class Graph:\n",
    "    \n",
    "    def __init__(self,n):\n",
    "        self.n = n\n",
    "        self.mat = [[-1 for i in range(n)] for j in range(n)]\n",
    "        \n",
    "    def addEdge(self,v1,v2):\n",
    "        if self.mat[v1][v2] != 1:\n",
    "            self.mat[v1][v2] = 1\n",
    "            self.mat[v2][v1] = 1\n",
    "    \n",
    "    def removeEdge(self,v1,v2):\n",
    "        if self.mat[v1][v2] == 1:\n",
    "            self.mat[v1][v2] = -1\n",
    "            self.mat[v2][v1] = -1\n",
    "            \n",
    "    def getPath(self,v1,v2):\n",
    "        \n",
    "        if v1==v2:\n",
    "            return [v1]\n",
    "        \n",
    "        visited = [-1 for i in range(self.n)]\n",
    "        parentnodes = [-1 for i in range(self.n)]\n",
    "        \n",
    "        q = queue.Queue()\n",
    "        \n",
    "        q.put(v1)\n",
    "        visited[v1] = 1\n",
    "        parentnodes[v1] = v1\n",
    "        \n",
    "        while q.empty() != True:\n",
    "            \n",
    "            popped = q.get()\n",
    "            \n",
    "            for j in range(len(self.mat[popped])):\n",
    "                if self.mat[popped][j] == 1 and visited[j] != 1:\n",
    "                    parentnodes[j] = popped\n",
    "                    if j == v2:\n",
    "                        path = [v2]\n",
    "                        while parentnodes[j] != v1:\n",
    "                            path.append(parentnodes[j])\n",
    "                            j = parentnodes[j]\n",
    "                        path.append(v1)\n",
    "                        return path\n",
    "                        \n",
    "                    q.put(j)\n",
    "                    visited[j] = 1\n",
    "        return -1"
   ]
  },
  {
   "cell_type": "code",
   "execution_count": 35,
   "metadata": {},
   "outputs": [
    {
     "name": "stdout",
     "output_type": "stream",
     "text": [
      "\n",
      "------------- PrintPath using BFS ------------\n",
      "\n",
      "[1, 0]\n",
      "[6, 3, 0]\n",
      "[2, 0, 1]\n",
      "[5, 1]\n",
      "[1]\n"
     ]
    }
   ],
   "source": [
    "g = Graph(7)\n",
    "\n",
    "g.addEdge(0,1)\n",
    "g.addEdge(0,2)\n",
    "g.addEdge(0,3)\n",
    "g.addEdge(1,5)\n",
    "g.addEdge(2,4)\n",
    "g.addEdge(3,6)\n",
    "g.addEdge(4,6)\n",
    "\n",
    "# print(\"\\n------------- After adding the edges the graph -------\\n\")\n",
    "# print(g)\n",
    "\n",
    "print(\"\\n------------- PrintPath using BFS ------------\\n\")\n",
    "print(g.getPath(0,1))\n",
    "print(g.getPath(0,6))\n",
    "print(g.getPath(1,2))\n",
    "print(g.getPath(1,5))\n",
    "print(g.getPath(1,1))"
   ]
  },
  {
   "cell_type": "code",
   "execution_count": null,
   "metadata": {},
   "outputs": [],
   "source": []
  },
  {
   "cell_type": "code",
   "execution_count": null,
   "metadata": {},
   "outputs": [],
   "source": []
  },
  {
   "cell_type": "code",
   "execution_count": null,
   "metadata": {},
   "outputs": [],
   "source": []
  },
  {
   "cell_type": "code",
   "execution_count": null,
   "metadata": {},
   "outputs": [],
   "source": []
  }
 ],
 "metadata": {
  "kernelspec": {
   "display_name": "Python 3",
   "language": "python",
   "name": "python3"
  },
  "language_info": {
   "codemirror_mode": {
    "name": "ipython",
    "version": 3
   },
   "file_extension": ".py",
   "mimetype": "text/x-python",
   "name": "python",
   "nbconvert_exporter": "python",
   "pygments_lexer": "ipython3",
   "version": "3.8.6"
  }
 },
 "nbformat": 4,
 "nbformat_minor": 4
}
