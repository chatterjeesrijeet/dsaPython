{
 "cells": [
  {
   "cell_type": "code",
   "execution_count": 9,
   "metadata": {},
   "outputs": [],
   "source": [
    "import sys\n",
    "\n",
    "def KadanesAlgorithm(arr):\n",
    "    \n",
    "    maxendinghere =  -1 *sys.maxsize\n",
    "    maxsofar = -1 * sys.maxsize \n",
    "    \n",
    "    for i in range(len(arr)):\n",
    "        maxendinghere = max(maxendinghere + arr[i],arr[i])\n",
    "        maxsofar = max(maxsofar , maxendinghere) \n",
    "    return maxsofar"
   ]
  },
  {
   "cell_type": "code",
   "execution_count": 10,
   "metadata": {},
   "outputs": [
    {
     "name": "stdout",
     "output_type": "stream",
     "text": [
      "19\n"
     ]
    }
   ],
   "source": [
    "maxSubArraySum = KadanesAlgorithm([3,5,-9,1,3,-2,3,4,7,2,-9,6,3,1,-5,4])\n",
    "print(maxSubArraySum)"
   ]
  },
  {
   "cell_type": "raw",
   "metadata": {},
   "source": [
    "Note :\n",
    "    Max subarray ---- > Basically if they allow you to consider evrything then enpty subarray is also a subarray with     sum value as 0 \n",
    "    \n",
    "    So when maxSoFar<0 then return 0.(value for empty subarray)"
   ]
  },
  {
   "cell_type": "code",
   "execution_count": 23,
   "metadata": {},
   "outputs": [],
   "source": [
    "import sys\n",
    "\n",
    "def KadanesAlgorithm_1(arr):\n",
    "    \n",
    "    maxEndingHere =  arr[0]\n",
    "    maxSoFar = arr[0]\n",
    "    \n",
    "    for num in arr[1:]:\n",
    "        maxEndingHere = max(num , maxEndingHere + num)\n",
    "        maxSoFar = max(maxSoFar , maxEndingHere) \n",
    "        \n",
    "    if maxSoFar < 0 :\n",
    "        maxSoFar = 0\n",
    "        \n",
    "    return maxSoFar"
   ]
  },
  {
   "cell_type": "code",
   "execution_count": 24,
   "metadata": {},
   "outputs": [
    {
     "name": "stdout",
     "output_type": "stream",
     "text": [
      "19\n"
     ]
    }
   ],
   "source": [
    "maxSubArraySum = KadanesAlgorithm_1([3,5,-9,1,3,-2,3,4,7,2,-9,6,3,1,-5,4])\n",
    "print(maxSubArraySum)"
   ]
  },
  {
   "cell_type": "raw",
   "metadata": {},
   "source": [
    "time Complexity = O(n)\n",
    "space complexity = O(1)"
   ]
  }
 ],
 "metadata": {
  "kernelspec": {
   "display_name": "Python 3",
   "language": "python",
   "name": "python3"
  },
  "language_info": {
   "codemirror_mode": {
    "name": "ipython",
    "version": 3
   },
   "file_extension": ".py",
   "mimetype": "text/x-python",
   "name": "python",
   "nbconvert_exporter": "python",
   "pygments_lexer": "ipython3",
   "version": "3.8.6"
  }
 },
 "nbformat": 4,
 "nbformat_minor": 4
}
