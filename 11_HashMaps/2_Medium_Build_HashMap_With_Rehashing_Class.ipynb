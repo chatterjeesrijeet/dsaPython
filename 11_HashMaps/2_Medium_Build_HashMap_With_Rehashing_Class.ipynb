{
 "cells": [
  {
   "cell_type": "markdown",
   "metadata": {},
   "source": [
    "     When (n/b) >= 0.7 we do rehasing i.e. \n",
    "  \n",
    "           >> increase the bucket size to twice that of the original one and\n",
    "  \n",
    "           >> then put the elements back to teh list and continue.\n",
    "           \n",
    "      Where n = Number of elements and b = Bucket Size"
   ]
  },
  {
   "cell_type": "code",
   "execution_count": 9,
   "metadata": {},
   "outputs": [],
   "source": [
    "class hashnode:\n",
    "    def __init__(self,key,val):\n",
    "        self.key = key\n",
    "        self.val = val\n",
    "        self.next = next"
   ]
  },
  {
   "cell_type": "code",
   "execution_count": 37,
   "metadata": {},
   "outputs": [],
   "source": [
    "class hashMap:\n",
    "    \n",
    "    def __init__(self,bucketSize):\n",
    "        self.bc = bucketSize\n",
    "        self.size = 0 \n",
    "        self.map = [None for i in range(bucketSize)]\n",
    "    \n",
    "    \n",
    "    def rehashing(self):\n",
    "        \n",
    "        oldmap = self.map\n",
    "        \n",
    "        self.bc = 2 * self.bc\n",
    "        self.map = [None for i in range(self.bc)]\n",
    "        \n",
    "        for ele in oldmap:\n",
    "            t = ele\n",
    "            while t!= None:\n",
    "                \n",
    "                hc = hash(t.key)\n",
    "                index = self.findIndex(hc)\n",
    "                \n",
    "                temp = self.map[index]\n",
    "                \n",
    "                while temp != None:\n",
    "                    if temp.key == t.key:\n",
    "                        temp.val = t.key.val\n",
    "                        break\n",
    "                    temp = temp.next\n",
    "                \n",
    "                newNode = hashnode(t.key,t.val)\n",
    "                newNode.next = self.map[index]\n",
    "                self.map[index] = newNode\n",
    "                \n",
    "                t = t.next\n",
    "        return\n",
    "            \n",
    "    def insert(self,key,val):\n",
    "        \n",
    "        while (self.size + 1)/(self.bc) >= 0.7:\n",
    "            self.rehashing()\n",
    "            \n",
    "        hc = hash(key)\n",
    "        index = self.findIndex(hc)\n",
    "        \n",
    "        temp = self.map[index]\n",
    "        while temp != None:\n",
    "            if temp.key == key:\n",
    "                temp.val = val\n",
    "                return\n",
    "            temp = temp.next\n",
    "        \n",
    "        newNode = hashnode(key,val)\n",
    "        newNode.next = self.map[index]\n",
    "        self.map[index] = newNode\n",
    "        self.size += 1 \n",
    "        \n",
    "        return \n",
    "    \n",
    "    def find(self,key):\n",
    "        \n",
    "        if self.size == 0:\n",
    "            return -1\n",
    "        \n",
    "        index = self.findIndex(hash(key))\n",
    "        \n",
    "        temp = self.map[index]\n",
    "        while temp != None:\n",
    "            if temp.key == key:\n",
    "                return temp.val\n",
    "            temp = temp.next\n",
    "        return -1\n",
    "    \n",
    "    def getSize(self):\n",
    "        return self.size\n",
    "    \n",
    "    def delete(self,key):\n",
    "        \n",
    "        if self.size == 0:\n",
    "            return\n",
    "        \n",
    "        index = self.findIndex(hash(key))\n",
    "        \n",
    "        prev = None\n",
    "        temp = self.map[index]\n",
    "        while temp != None:\n",
    "            if temp.key == key:\n",
    "                self.size -= 1\n",
    "                deletedVal = temp.val\n",
    "                \n",
    "                if prev == None:\n",
    "                    self.map[index] = temp.next\n",
    "                    return deletedVal\n",
    "                    \n",
    "                prev.next = temp.next\n",
    "                \n",
    "                return deletedVal\n",
    "            prev = temp\n",
    "            temp = temp.next\n",
    "            \n",
    "        return -1\n",
    "        \n",
    "    def print(self):\n",
    "        \n",
    "        for index,ele in enumerate(self.map):\n",
    "            \n",
    "            print(f\"Bucket Index : {index} elements : \",end = \" \")\n",
    "            temp = ele\n",
    "            while temp != None:\n",
    "                print(f\"({temp.key},{temp.val})\",end = \" --> \")\n",
    "                temp = temp.next\n",
    "            print('\\n')\n",
    "        return\n",
    "    \n",
    "    def findIndex(self,hc):\n",
    "        return hc%(self.bc)"
   ]
  },
  {
   "cell_type": "code",
   "execution_count": 47,
   "metadata": {},
   "outputs": [],
   "source": [
    "srihm = hashMap(5)"
   ]
  },
  {
   "cell_type": "code",
   "execution_count": 48,
   "metadata": {},
   "outputs": [
    {
     "name": "stdout",
     "output_type": "stream",
     "text": [
      "-1\n"
     ]
    }
   ],
   "source": [
    "print(srihm.find(1))"
   ]
  },
  {
   "cell_type": "code",
   "execution_count": 49,
   "metadata": {},
   "outputs": [],
   "source": [
    "srihm.insert(10,'Ten')"
   ]
  },
  {
   "cell_type": "code",
   "execution_count": 50,
   "metadata": {},
   "outputs": [
    {
     "name": "stdout",
     "output_type": "stream",
     "text": [
      "Ten\n"
     ]
    }
   ],
   "source": [
    "print(srihm.find(10))"
   ]
  },
  {
   "cell_type": "code",
   "execution_count": 51,
   "metadata": {},
   "outputs": [
    {
     "data": {
      "text/plain": [
       "-1"
      ]
     },
     "execution_count": 51,
     "metadata": {},
     "output_type": "execute_result"
    }
   ],
   "source": [
    "srihm.delete(20)"
   ]
  },
  {
   "cell_type": "code",
   "execution_count": 52,
   "metadata": {},
   "outputs": [
    {
     "data": {
      "text/plain": [
       "'Ten'"
      ]
     },
     "execution_count": 52,
     "metadata": {},
     "output_type": "execute_result"
    }
   ],
   "source": [
    "srihm.delete(10)"
   ]
  },
  {
   "cell_type": "code",
   "execution_count": 53,
   "metadata": {},
   "outputs": [
    {
     "name": "stdout",
     "output_type": "stream",
     "text": [
      "0\n"
     ]
    }
   ],
   "source": [
    "print(srihm.getSize())"
   ]
  },
  {
   "cell_type": "code",
   "execution_count": 54,
   "metadata": {},
   "outputs": [],
   "source": [
    "srihm.insert(10,'Ten')\n",
    "srihm.insert(20,'Twenty')\n",
    "srihm.insert(30,'Thirty')\n",
    "srihm.insert(1,'One')\n",
    "srihm.insert(2,'Two')\n",
    "srihm.insert(5,'Five')\n",
    "srihm.insert(4,'Four')\n",
    "srihm.insert(8,'Four')\n",
    "srihm.insert(16,'Four')\n"
   ]
  },
  {
   "cell_type": "code",
   "execution_count": 55,
   "metadata": {},
   "outputs": [
    {
     "name": "stdout",
     "output_type": "stream",
     "text": [
      "Bucket Index : 0 elements :  (20,Twenty) --> \n",
      "\n",
      "Bucket Index : 1 elements :  (1,One) --> \n",
      "\n",
      "Bucket Index : 2 elements :  (2,Two) --> \n",
      "\n",
      "Bucket Index : 3 elements :  \n",
      "\n",
      "Bucket Index : 4 elements :  (4,Four) --> \n",
      "\n",
      "Bucket Index : 5 elements :  (5,Five) --> \n",
      "\n",
      "Bucket Index : 6 elements :  \n",
      "\n",
      "Bucket Index : 7 elements :  \n",
      "\n",
      "Bucket Index : 8 elements :  (8,Four) --> \n",
      "\n",
      "Bucket Index : 9 elements :  \n",
      "\n",
      "Bucket Index : 10 elements :  (30,Thirty) --> (10,Ten) --> \n",
      "\n",
      "Bucket Index : 11 elements :  \n",
      "\n",
      "Bucket Index : 12 elements :  \n",
      "\n",
      "Bucket Index : 13 elements :  \n",
      "\n",
      "Bucket Index : 14 elements :  \n",
      "\n",
      "Bucket Index : 15 elements :  \n",
      "\n",
      "Bucket Index : 16 elements :  (16,Four) --> \n",
      "\n",
      "Bucket Index : 17 elements :  \n",
      "\n",
      "Bucket Index : 18 elements :  \n",
      "\n",
      "Bucket Index : 19 elements :  \n",
      "\n"
     ]
    }
   ],
   "source": [
    "srihm.print()"
   ]
  },
  {
   "cell_type": "code",
   "execution_count": 56,
   "metadata": {},
   "outputs": [
    {
     "name": "stdout",
     "output_type": "stream",
     "text": [
      "9\n"
     ]
    }
   ],
   "source": [
    "print(srihm.getSize())"
   ]
  },
  {
   "cell_type": "code",
   "execution_count": 57,
   "metadata": {},
   "outputs": [
    {
     "name": "stdout",
     "output_type": "stream",
     "text": [
      "6\n",
      "Bucket Index : 0 elements :  \n",
      "\n",
      "Bucket Index : 1 elements :  (1,One) --> \n",
      "\n",
      "Bucket Index : 2 elements :  \n",
      "\n",
      "Bucket Index : 3 elements :  \n",
      "\n",
      "Bucket Index : 4 elements :  (4,Four) --> \n",
      "\n",
      "Bucket Index : 5 elements :  \n",
      "\n",
      "Bucket Index : 6 elements :  \n",
      "\n",
      "Bucket Index : 7 elements :  \n",
      "\n",
      "Bucket Index : 8 elements :  (8,Four) --> \n",
      "\n",
      "Bucket Index : 9 elements :  \n",
      "\n",
      "Bucket Index : 10 elements :  (30,Thirty) --> (10,Ten) --> \n",
      "\n",
      "Bucket Index : 11 elements :  \n",
      "\n",
      "Bucket Index : 12 elements :  \n",
      "\n",
      "Bucket Index : 13 elements :  \n",
      "\n",
      "Bucket Index : 14 elements :  \n",
      "\n",
      "Bucket Index : 15 elements :  \n",
      "\n",
      "Bucket Index : 16 elements :  (16,Four) --> \n",
      "\n",
      "Bucket Index : 17 elements :  \n",
      "\n",
      "Bucket Index : 18 elements :  \n",
      "\n",
      "Bucket Index : 19 elements :  \n",
      "\n"
     ]
    }
   ],
   "source": [
    "srihm.delete(2)\n",
    "srihm.delete(20)\n",
    "srihm.delete(5)\n",
    "print(srihm.getSize())\n",
    "srihm.print()"
   ]
  },
  {
   "cell_type": "code",
   "execution_count": null,
   "metadata": {},
   "outputs": [],
   "source": []
  },
  {
   "cell_type": "code",
   "execution_count": null,
   "metadata": {},
   "outputs": [],
   "source": []
  },
  {
   "cell_type": "code",
   "execution_count": null,
   "metadata": {},
   "outputs": [],
   "source": []
  },
  {
   "cell_type": "code",
   "execution_count": null,
   "metadata": {},
   "outputs": [],
   "source": []
  },
  {
   "cell_type": "code",
   "execution_count": null,
   "metadata": {},
   "outputs": [],
   "source": []
  },
  {
   "cell_type": "code",
   "execution_count": null,
   "metadata": {},
   "outputs": [],
   "source": []
  }
 ],
 "metadata": {
  "kernelspec": {
   "display_name": "Python 3",
   "language": "python",
   "name": "python3"
  },
  "language_info": {
   "codemirror_mode": {
    "name": "ipython",
    "version": 3
   },
   "file_extension": ".py",
   "mimetype": "text/x-python",
   "name": "python",
   "nbconvert_exporter": "python",
   "pygments_lexer": "ipython3",
   "version": "3.8.6"
  }
 },
 "nbformat": 4,
 "nbformat_minor": 4
}
