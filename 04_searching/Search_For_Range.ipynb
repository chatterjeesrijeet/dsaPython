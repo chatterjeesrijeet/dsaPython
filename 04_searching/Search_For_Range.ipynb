{
 "cells": [
  {
   "cell_type": "code",
   "execution_count": 1,
   "metadata": {},
   "outputs": [],
   "source": [
    "arr = [11,13,17,19,21,22,23,23,23,23,23,23,23,23,28,29,29,31,38,42,53,58,61,64]\n",
    "X = 23\n",
    "solu = [6,13]"
   ]
  },
  {
   "cell_type": "code",
   "execution_count": 60,
   "metadata": {},
   "outputs": [],
   "source": [
    "def returnRangeIndexHelper(arr,X,idxrange,left = True,right = False):\n",
    "    \n",
    "    si , ei = 0 , len(arr)-1\n",
    "    \n",
    "    while si <= ei :\n",
    "        \n",
    "        mid = (si + ei)//2\n",
    "        \n",
    "        if arr[mid] == X :            # check if mid val == X\n",
    "            \n",
    "            \"\"\"When you are looking for the lef\"\"\"\n",
    "            if left:               # if yes we will look to update the left most index having val as X\n",
    "                \n",
    "                '''either mid -1 != X then leftmost == mid only or may be mid ==0 \n",
    "                so there is no left to it and its the leftmost'''\n",
    "                if mid == 0 or arr[mid-1] != X:   # \n",
    "                    idxrange[0] = mid\n",
    "                    break\n",
    "                else:\n",
    "                    '''Run the code for the left half using the same binary search '''\n",
    "                    ei = mid-1\n",
    "            \n",
    "            if right:\n",
    "                if mid == len(arr)-1 or arr[mid+1] != X:\n",
    "                    idxrange[1] = mid\n",
    "                    return\n",
    "                else:\n",
    "                    si = mid + 1\n",
    "                \n",
    "        \n",
    "        elif arr[mid] > X :\n",
    "            ei = mid - 1\n",
    "        \n",
    "        else:\n",
    "            si = mid + 1\n",
    "    \n",
    "    return idxrange\n",
    "\n",
    "def returnRangeIndex(arr,X):\n",
    "    \n",
    "    solution = [None,None]\n",
    "\n",
    "    returnRangeIndexHelper(arr,X,solution,True,False)\n",
    "    returnRangeIndexHelper(arr,X,solution,False,True)\n",
    "    \n",
    "    return solution"
   ]
  },
  {
   "cell_type": "code",
   "execution_count": 61,
   "metadata": {},
   "outputs": [
    {
     "name": "stdout",
     "output_type": "stream",
     "text": [
      "[2, 5]\n"
     ]
    }
   ],
   "source": [
    "arr = [11,13,17,17,17,17,21,23]\n",
    "X = 17\n",
    "solution  = returnRangeIndex(arr,X)\n",
    "print(solution)"
   ]
  },
  {
   "cell_type": "code",
   "execution_count": 62,
   "metadata": {},
   "outputs": [
    {
     "name": "stdout",
     "output_type": "stream",
     "text": [
      "[6, 13]\n"
     ]
    }
   ],
   "source": [
    "arr = [11,13,17,19,21,22,23,23,23,23,23,23,23,23,28,29,29,31,38,42,53,58,61,64]\n",
    "X = 23\n",
    "solu = [6,13]\n",
    "solution  = returnRangeIndex(arr,X)\n",
    "print(solution)"
   ]
  },
  {
   "cell_type": "code",
   "execution_count": null,
   "metadata": {},
   "outputs": [],
   "source": []
  }
 ],
 "metadata": {
  "kernelspec": {
   "display_name": "Python 3",
   "language": "python",
   "name": "python3"
  },
  "language_info": {
   "codemirror_mode": {
    "name": "ipython",
    "version": 3
   },
   "file_extension": ".py",
   "mimetype": "text/x-python",
   "name": "python",
   "nbconvert_exporter": "python",
   "pygments_lexer": "ipython3",
   "version": "3.8.6"
  }
 },
 "nbformat": 4,
 "nbformat_minor": 4
}
