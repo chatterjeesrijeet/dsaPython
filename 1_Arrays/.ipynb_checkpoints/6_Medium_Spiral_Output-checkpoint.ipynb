{
 "cells": [
  {
   "cell_type": "code",
   "execution_count": 21,
   "metadata": {},
   "outputs": [],
   "source": [
    "arr= [[1,2,3,4],\n",
    "      [5,6,7,8],\n",
    "      [9,10,11,12],\n",
    "      [13,14,15,16],\n",
    "      [17,18,19,20],\n",
    "      [21,22,23,24]]"
   ]
  },
  {
   "cell_type": "code",
   "execution_count": 22,
   "metadata": {},
   "outputs": [
    {
     "name": "stdout",
     "output_type": "stream",
     "text": [
      "1 2 3 4 8 12 16 20 24 23 22 21 17 13 9 5 6 7 11 15 19 18 14 10 "
     ]
    }
   ],
   "source": [
    "spiral_output(arr)"
   ]
  },
  {
   "cell_type": "code",
   "execution_count": 35,
   "metadata": {},
   "outputs": [],
   "source": [
    "def spiral_output(arr):\n",
    "    rows, cols = len(arr) , len(arr[0])\n",
    "    i , j = 0 , 0\n",
    "    \n",
    "    total_ele = rows*cols\n",
    "    count = 0 \n",
    "    itr = 0 \n",
    "    while count < total_ele:\n",
    "        print(f\" count : {count}\")\n",
    "        for j in range(itr,cols-itr):\n",
    "            print(arr[i][j],end = ' ')\n",
    "            count += 1\n",
    "        \n",
    "        i = i+ 1\n",
    "        for i in range(i,rows-itr):\n",
    "            print(arr[i][j],end = ' ')\n",
    "            count += 1\n",
    "        \n",
    "        j = j - 1\n",
    "        for j in range(j,itr-1,-1):\n",
    "            print(arr[i][j],end = ' ')\n",
    "            count += 1\n",
    "        \n",
    "        i = i - 1\n",
    "        for i in range(i,itr,-1):\n",
    "            print(arr[i][j], end = ' ')\n",
    "            count += 1\n",
    "            \n",
    "        itr += 1\n",
    "        "
   ]
  },
  {
   "cell_type": "code",
   "execution_count": 36,
   "metadata": {},
   "outputs": [],
   "source": [
    "arr = [[1,2,3,4],\n",
    "       [5,6,7,8],\n",
    "       [9,10,11,12]]"
   ]
  },
  {
   "cell_type": "code",
   "execution_count": 37,
   "metadata": {},
   "outputs": [
    {
     "name": "stdout",
     "output_type": "stream",
     "text": [
      " count : 0\n",
      "1 2 3 4 8 12 11 10 9 5  count : 10\n",
      "6 7 10 "
     ]
    }
   ],
   "source": [
    "spiral_output(arr)"
   ]
  },
  {
   "cell_type": "code",
   "execution_count": null,
   "metadata": {},
   "outputs": [],
   "source": []
  },
  {
   "cell_type": "code",
   "execution_count": null,
   "metadata": {},
   "outputs": [],
   "source": []
  },
  {
   "cell_type": "code",
   "execution_count": null,
   "metadata": {},
   "outputs": [],
   "source": []
  },
  {
   "cell_type": "code",
   "execution_count": null,
   "metadata": {},
   "outputs": [],
   "source": []
  },
  {
   "cell_type": "code",
   "execution_count": null,
   "metadata": {},
   "outputs": [],
   "source": []
  },
  {
   "cell_type": "code",
   "execution_count": null,
   "metadata": {},
   "outputs": [],
   "source": []
  }
 ],
 "metadata": {
  "kernelspec": {
   "display_name": "Python 3",
   "language": "python",
   "name": "python3"
  },
  "language_info": {
   "codemirror_mode": {
    "name": "ipython",
    "version": 3
   },
   "file_extension": ".py",
   "mimetype": "text/x-python",
   "name": "python",
   "nbconvert_exporter": "python",
   "pygments_lexer": "ipython3",
   "version": "3.8.6"
  }
 },
 "nbformat": 4,
 "nbformat_minor": 4
}
