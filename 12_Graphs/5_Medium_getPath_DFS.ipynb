{
 "cells": [
  {
   "cell_type": "code",
   "execution_count": 10,
   "metadata": {},
   "outputs": [],
   "source": [
    "class Graph:\n",
    "    \n",
    "    def __init__(self,n):\n",
    "        self.n= n\n",
    "        self.mat = [[-1 for i in range(n)] for j in range(n)]\n",
    "        for i in range(self.n):\n",
    "            self.mat[i][i] = 1\n",
    "        \n",
    "    def addEdge(self,v1,v2):\n",
    "        if self.mat[v1][v2] == -1:\n",
    "            self.mat[v1][v2] = 1\n",
    "            self.mat[v2][v1] = 1\n",
    "    \n",
    "    def removeEdge(self,v1,v2):\n",
    "        if self.mat[v1][v2]==1:\n",
    "            self.mat[v1][v2]= -1\n",
    "            self.mat[v2][v1] = -1\n",
    "            \n",
    "    def getPathDFS(self,v1,v2):\n",
    "        \n",
    "        visited = [-1 for i in range(self.n)]\n",
    "        visited[v1] = 1\n",
    "        \n",
    "        return self.getPathDFShelper(v1,v2,visited)\n",
    "        \n",
    "    def getPathDFShelper(self,v1,v2,visited):\n",
    "        \n",
    "        if self.mat[v1][v2] == 1:\n",
    "            return [v2,v1] if v1 != v2 else [v1]\n",
    "        \n",
    "        path = None\n",
    "        \n",
    "        #check at all the neighbours    \n",
    "        for j in range(len(self.mat[v1])):\n",
    "            if self.mat[v1][j] == 1 and visited[j] != 1:\n",
    "                visited[j] = 1\n",
    "                path = self.getPathDFShelper(j,v2,visited)\n",
    "                if path != None:\n",
    "                    path.append(v1)\n",
    "                    break\n",
    "        \n",
    "        return path"
   ]
  },
  {
   "cell_type": "code",
   "execution_count": 9,
   "metadata": {},
   "outputs": [
    {
     "name": "stdout",
     "output_type": "stream",
     "text": [
      "\n",
      "------------- PrintPath using DFS ------------\n",
      "\n",
      "[1, 0]\n",
      "[6, 4, 2, 0]\n",
      "[2, 0, 1]\n",
      "[5, 1]\n",
      "[1]\n"
     ]
    }
   ],
   "source": [
    "g = Graph(7)\n",
    "\n",
    "g.addEdge(0,1)\n",
    "g.addEdge(0,2)\n",
    "g.addEdge(0,3)\n",
    "g.addEdge(1,5)\n",
    "g.addEdge(2,4)\n",
    "g.addEdge(3,6)\n",
    "g.addEdge(4,6)\n",
    "\n",
    "# print(\"\\n------------- After adding the edges the graph -------\\n\")\n",
    "# print(g)\n",
    "\n",
    "print(\"\\n------------- PrintPath using DFS ------------\\n\")\n",
    "print(g.getPathDFS(0,1))\n",
    "print(g.getPathDFS(0,6))\n",
    "print(g.getPathDFS(1,2))\n",
    "print(g.getPathDFS(1,5))\n",
    "print(g.getPathDFS(1,1))"
   ]
  },
  {
   "cell_type": "code",
   "execution_count": null,
   "metadata": {},
   "outputs": [],
   "source": []
  },
  {
   "cell_type": "code",
   "execution_count": 2,
   "metadata": {},
   "outputs": [],
   "source": [
    "dislikes = [[1,2],[1,3],[2,3]]\n",
    "n = 4"
   ]
  },
  {
   "cell_type": "code",
   "execution_count": 11,
   "metadata": {},
   "outputs": [],
   "source": [
    " mat = [[(1 if [i,j] not in dislikes else 0) for j in range(n)] for i in range(n)]"
   ]
  },
  {
   "cell_type": "code",
   "execution_count": 12,
   "metadata": {},
   "outputs": [
    {
     "data": {
      "text/plain": [
       "[[1, 1, 1, 1], [1, 1, 0, 0], [1, 1, 1, 0], [1, 1, 1, 1]]"
      ]
     },
     "execution_count": 12,
     "metadata": {},
     "output_type": "execute_result"
    }
   ],
   "source": [
    "mat"
   ]
  },
  {
   "cell_type": "code",
   "execution_count": null,
   "metadata": {},
   "outputs": [],
   "source": []
  }
 ],
 "metadata": {
  "kernelspec": {
   "display_name": "Python 3",
   "language": "python",
   "name": "python3"
  },
  "language_info": {
   "codemirror_mode": {
    "name": "ipython",
    "version": 3
   },
   "file_extension": ".py",
   "mimetype": "text/x-python",
   "name": "python",
   "nbconvert_exporter": "python",
   "pygments_lexer": "ipython3",
   "version": "3.8.6"
  }
 },
 "nbformat": 4,
 "nbformat_minor": 4
}
