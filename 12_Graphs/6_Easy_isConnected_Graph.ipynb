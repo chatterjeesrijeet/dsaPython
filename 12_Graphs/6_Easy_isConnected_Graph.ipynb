{
 "cells": [
  {
   "cell_type": "code",
   "execution_count": 4,
   "metadata": {},
   "outputs": [],
   "source": [
    "import queue\n",
    "class Graph:\n",
    "    \n",
    "    \n",
    "    def __init__(self,n):\n",
    "        self.n = n\n",
    "        self.mat = [[-1 for i in range(n)] for j in range(n)]\n",
    "        for i in range(n):\n",
    "            self.mat[i][i] = 1\n",
    "    \n",
    "    def addEdge(self,i,j):\n",
    "        self.mat[i][j] = 1\n",
    "        self.mat[j][i] = 1\n",
    "    \n",
    "    def remEdge(self,i,j):\n",
    "        self.mat[i][j] = -1\n",
    "        self.mat[j][i] = -1\n",
    "        \n",
    "    def isConnected(self):\n",
    "        \n",
    "        visited = self.bfstraversal()\n",
    "        for val in visited:\n",
    "            if val == -1 : return False\n",
    "        return True\n",
    "    \n",
    "    def bfstraversal(self,sv=0):\n",
    "        \n",
    "        visited = [-1 for i in range(self.n)]\n",
    "        q = queue.Queue()\n",
    "        \n",
    "        q.put(sv)\n",
    "        visited[sv] = 1\n",
    "        \n",
    "        while q.isEmpty() != True:\n",
    "            popped = q.get()\n",
    "            \n",
    "            potential_nodes = self.mat[popped]\n",
    "            for j in range(len(potential_nodes)):\n",
    "                if potential_nodes[j] == 1 and visited[j]!= 1:\n",
    "                    q.put(j)\n",
    "                    visited[j] = 1\n",
    "        \n",
    "        return visited\n",
    "        "
   ]
  },
  {
   "cell_type": "code",
   "execution_count": 5,
   "metadata": {},
   "outputs": [],
   "source": [
    "g2 = Graph(8)\n",
    "\n",
    "g2.addEdge(0,1)\n",
    "g2.addEdge(0,2)\n",
    "g2.addEdge(0,3)\n",
    "g2.addEdge(0,4)\n",
    "g2.addEdge(2,5)\n",
    "g2.addEdge(2,6)\n",
    "g2.addEdge(3,6)\n",
    "g2.addEdge(4,7)\n",
    "g2.addEdge(3,7)\n",
    "g2.addEdge(6,7)"
   ]
  },
  {
   "cell_type": "code",
   "execution_count": 6,
   "metadata": {},
   "outputs": [
    {
     "name": "stdout",
     "output_type": "stream",
     "text": [
      "\n",
      "------------- Graph connectivity Check using BFS traversal -------\n",
      "\n"
     ]
    },
    {
     "ename": "AttributeError",
     "evalue": "'Queue' object has no attribute 'isEmpty'",
     "output_type": "error",
     "traceback": [
      "\u001b[0;31m---------------------------------------------------------------------------\u001b[0m",
      "\u001b[0;31mAttributeError\u001b[0m                            Traceback (most recent call last)",
      "\u001b[0;32m<ipython-input-6-ec3bd3e8838f>\u001b[0m in \u001b[0;36m<module>\u001b[0;34m\u001b[0m\n\u001b[1;32m      1\u001b[0m \u001b[0mprint\u001b[0m\u001b[0;34m(\u001b[0m\u001b[0;34m\"\\n------------- Graph connectivity Check using BFS traversal -------\\n\"\u001b[0m\u001b[0;34m)\u001b[0m\u001b[0;34m\u001b[0m\u001b[0;34m\u001b[0m\u001b[0m\n\u001b[0;32m----> 2\u001b[0;31m \u001b[0mg2\u001b[0m\u001b[0;34m.\u001b[0m\u001b[0misConnected\u001b[0m\u001b[0;34m(\u001b[0m\u001b[0;34m)\u001b[0m\u001b[0;34m\u001b[0m\u001b[0;34m\u001b[0m\u001b[0m\n\u001b[0m",
      "\u001b[0;32m<ipython-input-4-cbc05bca802c>\u001b[0m in \u001b[0;36misConnected\u001b[0;34m(self)\u001b[0m\n\u001b[1;32m     19\u001b[0m     \u001b[0;32mdef\u001b[0m \u001b[0misConnected\u001b[0m\u001b[0;34m(\u001b[0m\u001b[0mself\u001b[0m\u001b[0;34m)\u001b[0m\u001b[0;34m:\u001b[0m\u001b[0;34m\u001b[0m\u001b[0;34m\u001b[0m\u001b[0m\n\u001b[1;32m     20\u001b[0m \u001b[0;34m\u001b[0m\u001b[0m\n\u001b[0;32m---> 21\u001b[0;31m         \u001b[0mvisited\u001b[0m \u001b[0;34m=\u001b[0m \u001b[0mself\u001b[0m\u001b[0;34m.\u001b[0m\u001b[0mbfstraversal\u001b[0m\u001b[0;34m(\u001b[0m\u001b[0;34m)\u001b[0m\u001b[0;34m\u001b[0m\u001b[0;34m\u001b[0m\u001b[0m\n\u001b[0m\u001b[1;32m     22\u001b[0m         \u001b[0;32mfor\u001b[0m \u001b[0mval\u001b[0m \u001b[0;32min\u001b[0m \u001b[0mvisited\u001b[0m\u001b[0;34m:\u001b[0m\u001b[0;34m\u001b[0m\u001b[0;34m\u001b[0m\u001b[0m\n\u001b[1;32m     23\u001b[0m             \u001b[0;32mif\u001b[0m \u001b[0mval\u001b[0m \u001b[0;34m==\u001b[0m \u001b[0;34m-\u001b[0m\u001b[0;36m1\u001b[0m \u001b[0;34m:\u001b[0m \u001b[0;32mreturn\u001b[0m \u001b[0;32mFalse\u001b[0m\u001b[0;34m\u001b[0m\u001b[0;34m\u001b[0m\u001b[0m\n",
      "\u001b[0;32m<ipython-input-4-cbc05bca802c>\u001b[0m in \u001b[0;36mbfstraversal\u001b[0;34m(self, sv)\u001b[0m\n\u001b[1;32m     32\u001b[0m         \u001b[0mvisited\u001b[0m\u001b[0;34m[\u001b[0m\u001b[0msv\u001b[0m\u001b[0;34m]\u001b[0m \u001b[0;34m=\u001b[0m \u001b[0;36m1\u001b[0m\u001b[0;34m\u001b[0m\u001b[0;34m\u001b[0m\u001b[0m\n\u001b[1;32m     33\u001b[0m \u001b[0;34m\u001b[0m\u001b[0m\n\u001b[0;32m---> 34\u001b[0;31m         \u001b[0;32mwhile\u001b[0m \u001b[0mq\u001b[0m\u001b[0;34m.\u001b[0m\u001b[0misEmpty\u001b[0m\u001b[0;34m(\u001b[0m\u001b[0;34m)\u001b[0m \u001b[0;34m!=\u001b[0m \u001b[0;32mTrue\u001b[0m\u001b[0;34m:\u001b[0m\u001b[0;34m\u001b[0m\u001b[0;34m\u001b[0m\u001b[0m\n\u001b[0m\u001b[1;32m     35\u001b[0m             \u001b[0mpopped\u001b[0m \u001b[0;34m=\u001b[0m \u001b[0mq\u001b[0m\u001b[0;34m.\u001b[0m\u001b[0mget\u001b[0m\u001b[0;34m(\u001b[0m\u001b[0;34m)\u001b[0m\u001b[0;34m\u001b[0m\u001b[0;34m\u001b[0m\u001b[0m\n\u001b[1;32m     36\u001b[0m \u001b[0;34m\u001b[0m\u001b[0m\n",
      "\u001b[0;31mAttributeError\u001b[0m: 'Queue' object has no attribute 'isEmpty'"
     ]
    }
   ],
   "source": [
    "print(\"\\n------------- Graph connectivity Check using BFS traversal -------\\n\")\n",
    "g2.isConnected()"
   ]
  },
  {
   "cell_type": "code",
   "execution_count": null,
   "metadata": {},
   "outputs": [],
   "source": []
  }
 ],
 "metadata": {
  "kernelspec": {
   "display_name": "Python 3",
   "language": "python",
   "name": "python3"
  },
  "language_info": {
   "codemirror_mode": {
    "name": "ipython",
    "version": 3
   },
   "file_extension": ".py",
   "mimetype": "text/x-python",
   "name": "python",
   "nbconvert_exporter": "python",
   "pygments_lexer": "ipython3",
   "version": "3.8.6"
  }
 },
 "nbformat": 4,
 "nbformat_minor": 4
}
