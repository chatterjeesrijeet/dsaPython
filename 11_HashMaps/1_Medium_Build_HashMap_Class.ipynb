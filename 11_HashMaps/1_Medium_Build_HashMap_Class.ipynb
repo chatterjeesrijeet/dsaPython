{
 "cells": [
  {
   "cell_type": "code",
   "execution_count": 58,
   "metadata": {},
   "outputs": [],
   "source": [
    "class hashnode:\n",
    "    \n",
    "    def __init__(self,key,val):\n",
    "        self.key = key\n",
    "        self.val = val\n",
    "        self.next = next"
   ]
  },
  {
   "cell_type": "code",
   "execution_count": 59,
   "metadata": {},
   "outputs": [],
   "source": [
    "class hashMap:\n",
    "    \n",
    "    def __init__(self,bucketSize):\n",
    "        self.bc = bucketSize\n",
    "        self.size = 0 \n",
    "        self.map = [None for i in range(bucketSize)]\n",
    "        \n",
    "    def insert(self,key,val):\n",
    "        hc = hash(key)\n",
    "        index = self.findIndex(hc)\n",
    "        \n",
    "        temp = self.map[index]\n",
    "        while temp != None:\n",
    "            if temp.key == key:\n",
    "                temp.val = val\n",
    "                return\n",
    "            temp = temp.next\n",
    "        \n",
    "        newNode = hashnode(key,val)\n",
    "        newNode.next = self.map[index]\n",
    "        self.map[index] = newNode\n",
    "        self.size += 1 \n",
    "        return \n",
    "    \n",
    "    def find(self,key):\n",
    "        \n",
    "        if self.size == 0:\n",
    "            return -1\n",
    "        \n",
    "        index = self.findIndex(hash(key))\n",
    "        \n",
    "        temp = self.map[index]\n",
    "        while temp != None:\n",
    "            if temp.key == key:\n",
    "                return temp.val\n",
    "            temp = temp.next\n",
    "        return -1\n",
    "    \n",
    "    def getSize(self):\n",
    "        return self.size\n",
    "    \n",
    "    def delete(self,key):\n",
    "        \n",
    "        if self.size == 0:\n",
    "            return\n",
    "        \n",
    "        index = self.findIndex(hash(key))\n",
    "        \n",
    "        prev = None\n",
    "        temp = self.map[index]\n",
    "        while temp != None:\n",
    "            if temp.key == key:\n",
    "                self.size -= 1\n",
    "                deletedVal = temp.val\n",
    "                \n",
    "                if prev == None:\n",
    "                    self.map[index] = temp.next\n",
    "                    return deletedVal\n",
    "                    \n",
    "                prev.next = temp.next\n",
    "                \n",
    "                return deletedVal\n",
    "            prev = temp\n",
    "            temp = temp.next\n",
    "            \n",
    "        return -1\n",
    "        \n",
    "    def print(self):\n",
    "        \n",
    "        for index,ele in enumerate(self.map):\n",
    "            \n",
    "            print(f\"Bucket Index : {index} elements : \",end = \" \")\n",
    "            temp = ele\n",
    "            while temp != None:\n",
    "                print(f\"({temp.key},{temp.val})\",end = \" --> \")\n",
    "                temp = temp.next\n",
    "            print('\\n')\n",
    "        return\n",
    "    \n",
    "    def findIndex(self,hc):\n",
    "        return hc%(self.bc)"
   ]
  },
  {
   "cell_type": "code",
   "execution_count": 60,
   "metadata": {},
   "outputs": [],
   "source": [
    "srihm = hashMap(5)"
   ]
  },
  {
   "cell_type": "code",
   "execution_count": 61,
   "metadata": {},
   "outputs": [
    {
     "name": "stdout",
     "output_type": "stream",
     "text": [
      "-1\n"
     ]
    }
   ],
   "source": [
    "print(srihm.find(1))"
   ]
  },
  {
   "cell_type": "code",
   "execution_count": 62,
   "metadata": {},
   "outputs": [],
   "source": [
    "srihm.insert(10,'Ten')"
   ]
  },
  {
   "cell_type": "code",
   "execution_count": 63,
   "metadata": {},
   "outputs": [
    {
     "name": "stdout",
     "output_type": "stream",
     "text": [
      "Ten\n"
     ]
    }
   ],
   "source": [
    "print(srihm.find(10))"
   ]
  },
  {
   "cell_type": "code",
   "execution_count": 64,
   "metadata": {},
   "outputs": [
    {
     "data": {
      "text/plain": [
       "-1"
      ]
     },
     "execution_count": 64,
     "metadata": {},
     "output_type": "execute_result"
    }
   ],
   "source": [
    "srihm.delete(20)"
   ]
  },
  {
   "cell_type": "code",
   "execution_count": 65,
   "metadata": {},
   "outputs": [
    {
     "data": {
      "text/plain": [
       "'Ten'"
      ]
     },
     "execution_count": 65,
     "metadata": {},
     "output_type": "execute_result"
    }
   ],
   "source": [
    "srihm.delete(10)"
   ]
  },
  {
   "cell_type": "code",
   "execution_count": 66,
   "metadata": {},
   "outputs": [
    {
     "name": "stdout",
     "output_type": "stream",
     "text": [
      "0\n"
     ]
    }
   ],
   "source": [
    "print(srihm.getSize())"
   ]
  },
  {
   "cell_type": "code",
   "execution_count": 67,
   "metadata": {},
   "outputs": [],
   "source": [
    "srihm.insert(10,'Ten')\n",
    "srihm.insert(20,'Twenty')\n",
    "srihm.insert(30,'Thirty')\n",
    "srihm.insert(1,'One')\n",
    "srihm.insert(2,'Two')\n",
    "srihm.insert(5,'Five')\n",
    "srihm.insert(4,'Four')"
   ]
  },
  {
   "cell_type": "code",
   "execution_count": 68,
   "metadata": {},
   "outputs": [
    {
     "name": "stdout",
     "output_type": "stream",
     "text": [
      "Bucket Index : 0 elements :  (5,Five) --> (30,Thirty) --> (20,Twenty) --> (10,Ten) --> \n",
      "\n",
      "Bucket Index : 1 elements :  (1,One) --> \n",
      "\n",
      "Bucket Index : 2 elements :  (2,Two) --> \n",
      "\n",
      "Bucket Index : 3 elements :  \n",
      "\n",
      "Bucket Index : 4 elements :  (4,Four) --> \n",
      "\n"
     ]
    }
   ],
   "source": [
    "srihm.print()"
   ]
  },
  {
   "cell_type": "code",
   "execution_count": 69,
   "metadata": {},
   "outputs": [
    {
     "name": "stdout",
     "output_type": "stream",
     "text": [
      "7\n"
     ]
    }
   ],
   "source": [
    "print(srihm.getSize())"
   ]
  },
  {
   "cell_type": "code",
   "execution_count": 70,
   "metadata": {},
   "outputs": [
    {
     "name": "stdout",
     "output_type": "stream",
     "text": [
      "4\n",
      "Bucket Index : 0 elements :  (30,Thirty) --> (10,Ten) --> \n",
      "\n",
      "Bucket Index : 1 elements :  (1,One) --> \n",
      "\n",
      "Bucket Index : 2 elements :  \n",
      "\n",
      "Bucket Index : 3 elements :  \n",
      "\n",
      "Bucket Index : 4 elements :  (4,Four) --> \n",
      "\n"
     ]
    }
   ],
   "source": [
    "srihm.delete(2)\n",
    "srihm.delete(20)\n",
    "srihm.delete(5)\n",
    "print(srihm.getSize())\n",
    "srihm.print()"
   ]
  },
  {
   "cell_type": "code",
   "execution_count": null,
   "metadata": {},
   "outputs": [],
   "source": []
  },
  {
   "cell_type": "code",
   "execution_count": null,
   "metadata": {},
   "outputs": [],
   "source": []
  },
  {
   "cell_type": "code",
   "execution_count": null,
   "metadata": {},
   "outputs": [],
   "source": []
  },
  {
   "cell_type": "code",
   "execution_count": 71,
   "metadata": {},
   "outputs": [
    {
     "data": {
      "text/plain": [
       "[0, 1, 3, 4]"
      ]
     },
     "execution_count": 71,
     "metadata": {},
     "output_type": "execute_result"
    }
   ],
   "source": [
    "li = [0,1,2,3,4]\n",
    "li.pop(2)\n",
    "li"
   ]
  },
  {
   "cell_type": "code",
   "execution_count": null,
   "metadata": {},
   "outputs": [],
   "source": []
  },
  {
   "cell_type": "code",
   "execution_count": null,
   "metadata": {},
   "outputs": [],
   "source": []
  }
 ],
 "metadata": {
  "kernelspec": {
   "display_name": "Python 3",
   "language": "python",
   "name": "python3"
  },
  "language_info": {
   "codemirror_mode": {
    "name": "ipython",
    "version": 3
   },
   "file_extension": ".py",
   "mimetype": "text/x-python",
   "name": "python",
   "nbconvert_exporter": "python",
   "pygments_lexer": "ipython3",
   "version": "3.8.6"
  }
 },
 "nbformat": 4,
 "nbformat_minor": 4
}
