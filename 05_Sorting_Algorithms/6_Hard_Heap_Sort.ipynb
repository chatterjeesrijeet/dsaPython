{
 "cells": [
  {
   "cell_type": "markdown",
   "metadata": {},
   "source": [
    "### Heap Sort "
   ]
  },
  {
   "cell_type": "markdown",
   "metadata": {},
   "source": [
    "This has two ways of doing it : \n",
    "    \n",
    "    1. Fundamentally where we create the heap class and use that to do heap sort\n",
    "    \n",
    "         >> you can even modify that for inplace heapsort\n",
    "        \n",
    "    2. Using the heapify() method & python defined heap class object  to sorting "
   ]
  },
  {
   "cell_type": "code",
   "execution_count": 141,
   "metadata": {},
   "outputs": [],
   "source": [
    "class heapNode:\n",
    "    def __init__(self,val,p):\n",
    "        self.val = val\n",
    "        self.p = p\n",
    "\n",
    "\n",
    "class heap:\n",
    "    \n",
    "    def __init__(self):\n",
    "        self.pq = []\n",
    "        \n",
    "    def getSize(self):\n",
    "        return len(self.pq)\n",
    "    \n",
    "    def isEmpty(self):\n",
    "        return self.getSize() == 0\n",
    "    \n",
    "    def insert(self,val,p):\n",
    "        \n",
    "        newNode = heapNode(val,p)\n",
    "        self.pq.append(newNode)\n",
    "        self.__upheap()\n",
    "        \n",
    "    def __upheap(self):\n",
    "        \n",
    "        if self.isEmpty():\n",
    "            return\n",
    "        \n",
    "        ci = len(self.pq)-1\n",
    "        pi = (ci-1)//2\n",
    "        \n",
    "        while pi >= 0 :\n",
    "            \n",
    "            minIdx  = pi\n",
    "            \n",
    "            if self.pq[pi].p > self.pq[ci].p:\n",
    "                minIdx = ci\n",
    "                self.pq[pi],self.pq[ci]   = self.pq[ci],self.pq[pi]\n",
    "                \n",
    "            if minIdx == pi :\n",
    "                break\n",
    "            ci = pi\n",
    "            pi = (ci-1)//2\n",
    "            \n",
    "    def printPQ(self):\n",
    "        for i in self.pq :\n",
    "            print(f\"(val:{i.val} & P:{i.p})\",end = \" ---> \")\n",
    "    \n",
    "    def delete(self):\n",
    "        \n",
    "        if self.isEmpty():\n",
    "            print(\"Heap is already empty so cannot delete any !!!\")\n",
    "            return\n",
    "        \n",
    "        deletedNode = self.pq[0]\n",
    "        \n",
    "#         print(f\"Deleted Node : {self.pq[0].val}\")\n",
    "        \n",
    "        self.pq[0] = self.pq[len(self.pq)-1]\n",
    "        \n",
    "        self.pq.pop()\n",
    "        \n",
    "        self.__downheap()\n",
    "        \n",
    "        return deletedNode\n",
    "        \n",
    "    def __downheap(self):\n",
    "        \n",
    "        if self.getSize() == 0 :\n",
    "            return\n",
    "        \n",
    "        ci = 0 \n",
    "        lc = (2*ci)+1\n",
    "        rc = (2*ci)+2\n",
    "        \n",
    "        while lc < len(self.pq) :\n",
    "            \n",
    "            minIdx = ci\n",
    "            \n",
    "            if self.pq[lc].p < self.pq[ci].p:\n",
    "                minIdx = lc\n",
    "                self.pq[lc],self.pq[ci]  = self.pq[ci], self.pq[lc]\n",
    "            \n",
    "            if rc < len(self.pq) and (self.pq[rc].p < self.pq[ci].p):\n",
    "                minIdx = rc\n",
    "                self.pq[rc],self.pq[ci]  = self.pq[ci], self.pq[rc]\n",
    "                \n",
    "            if minIdx == ci:\n",
    "                break\n",
    "            \n",
    "            ci = minIdx\n",
    "            lc = (2*ci)+1\n",
    "            rc = (2*ci)+2"
   ]
  },
  {
   "cell_type": "code",
   "execution_count": 142,
   "metadata": {},
   "outputs": [],
   "source": [
    "myHeap = heap()"
   ]
  },
  {
   "cell_type": "code",
   "execution_count": 143,
   "metadata": {},
   "outputs": [
    {
     "name": "stdout",
     "output_type": "stream",
     "text": [
      "(val:11 & P:11) ---> \n",
      "\n",
      "(val:9 & P:9) ---> (val:11 & P:11) ---> \n",
      "\n",
      "(val:9 & P:9) ---> (val:11 & P:11) ---> (val:12 & P:12) ---> \n",
      "\n",
      "(val:2 & P:2) ---> (val:9 & P:9) ---> (val:12 & P:12) ---> (val:11 & P:11) ---> "
     ]
    }
   ],
   "source": [
    "myHeap.insert('11',11)\n",
    "myHeap.printPQ()\n",
    "print('\\n')\n",
    "myHeap.insert('9',9)\n",
    "myHeap.printPQ()\n",
    "print('\\n')\n",
    "myHeap.insert('12',12)\n",
    "myHeap.printPQ()\n",
    "print('\\n')\n",
    "myHeap.insert('2',2)\n",
    "myHeap.printPQ()"
   ]
  },
  {
   "cell_type": "code",
   "execution_count": 144,
   "metadata": {},
   "outputs": [
    {
     "name": "stdout",
     "output_type": "stream",
     "text": [
      "(val:7 & P:7) ---> (val:8 & P:8) ---> (val:10 & P:10) ---> (val:11 & P:11) ---> (val:9 & P:9) ---> \n",
      "\n",
      "7\n",
      "8\n",
      "9\n",
      "10\n",
      "11\n",
      "\n",
      "\n",
      "Heap is already empty so cannot delete any !!!\n",
      "None\n"
     ]
    }
   ],
   "source": [
    "myHeap = heap()\n",
    "myHeap.insert('11',11)\n",
    "myHeap.insert('10',10)\n",
    "myHeap.insert('9',9)\n",
    "myHeap.insert('8',8)\n",
    "myHeap.insert('7',7)\n",
    "\n",
    "myHeap.printPQ()\n",
    "print('\\n')\n",
    "\n",
    "print(myHeap.delete().val)\n",
    "print(myHeap.delete().val)\n",
    "print(myHeap.delete().val)\n",
    "print(myHeap.delete().val)\n",
    "print(myHeap.delete().val)\n",
    "\n",
    "myHeap.printPQ()\n",
    "\n",
    "print('\\n')\n",
    "\n",
    "print(myHeap.delete())\n"
   ]
  },
  {
   "cell_type": "code",
   "execution_count": 154,
   "metadata": {},
   "outputs": [],
   "source": [
    "def heapSort(arr):\n",
    "    myheap = heap()\n",
    "    for x in arr:\n",
    "        myheap.insert(x,x)\n",
    "    \n",
    "    myheap.printPQ()\n",
    "    \n",
    "    for i in range(len(arr)):\n",
    "        arr[i] = myheap.delete().val\n",
    "    return"
   ]
  },
  {
   "cell_type": "code",
   "execution_count": 156,
   "metadata": {},
   "outputs": [
    {
     "name": "stdout",
     "output_type": "stream",
     "text": [
      "(val:1 & P:1) ---> (val:6 & P:6) ---> (val:2 & P:2) ---> (val:9 & P:9) ---> (val:10 & P:10) ---> (val:7 & P:7) ---> (val:18 & P:18) ---> (val:11 & P:11) ---> "
     ]
    },
    {
     "data": {
      "text/plain": [
       "[1, 2, 6, 7, 10, 9, 11, 18]"
      ]
     },
     "execution_count": 156,
     "metadata": {},
     "output_type": "execute_result"
    }
   ],
   "source": [
    "arr = [7,11,2,9,10,1,18,6]\n",
    "heapSort(arr)\n",
    "arr"
   ]
  },
  {
   "cell_type": "markdown",
   "metadata": {},
   "source": [
    "### Modifying thing that heap val is the priority :"
   ]
  },
  {
   "cell_type": "code",
   "execution_count": 47,
   "metadata": {},
   "outputs": [],
   "source": [
    "class heap:\n",
    "    \n",
    "    \n",
    "    def __init__(self):\n",
    "        self.pq = []\n",
    "        \n",
    "    def getSize(self):\n",
    "        return len(self.pq)\n",
    "    \n",
    "    def isEmpty(self):\n",
    "        return self.getSize() == 0\n",
    "    \n",
    "    def insert(self,val):\n",
    "        self.pq.append(val)        \n",
    "        self.__heapUp()\n",
    "        \n",
    "    def __heapUp(self):\n",
    "        \n",
    "        if self.isEmpty():\n",
    "            return\n",
    "        \n",
    "        ci = len(self.pq)-1\n",
    "        pi = (ci-1)//2\n",
    "        \n",
    "        while pi >= 0 :\n",
    "            \n",
    "            minIdx = pi\n",
    "\n",
    "            if self.pq[ci] < self.pq[pi]:\n",
    "                minIdx = ci\n",
    "                self.pq[ci] ,self.pq[pi] = self.pq[pi],self.pq[ci]\n",
    "            \n",
    "            if minIdx == pi :\n",
    "                break\n",
    "        \n",
    "            ci = pi \n",
    "            pi = (ci-1)//2\n",
    "            \n",
    "    \n",
    "    def delete(self):\n",
    "        \n",
    "        if self.isEmpty():\n",
    "            return -1\n",
    "        \n",
    "        deletedVal = self.pq[0]\n",
    "        self.pq[0] = self.pq[len(self.pq)-1]\n",
    "        self.pq.pop()\n",
    "        \n",
    "        self.__heapDown()\n",
    "        \n",
    "        return deletedVal\n",
    "        \n",
    "    def __heapDown(self):\n",
    "        \n",
    "        if self.isEmpty():\n",
    "            return -1\n",
    "        \n",
    "        ci = 0 \n",
    "        li = (2*ci)+1\n",
    "        ri = (2*ci)+2\n",
    "        \n",
    "        while li < len(self.pq):\n",
    "            \n",
    "            minIdx = ci\n",
    "            \n",
    "            if self.pq[li] < self.pq[ci]:\n",
    "                minIdx = li\n",
    "                self.pq[li],self.pq[ci] = self.pq[ci], self.pq[li]\n",
    "                \n",
    "            if ri < len(self.pq) and self.pq[ri] < self.pq[ci]:\n",
    "                minIdx = ri\n",
    "                self.pq[ri],self.pq[ci] = self.pq[ci], self.pq[ri]\n",
    "            \n",
    "            if minIdx == ci :\n",
    "                break\n",
    "                \n",
    "            ci = minIdx\n",
    "            li = (2*ci)+1\n",
    "            ri = (2*ci)+2\n",
    "                \n",
    "                \n",
    "    def printheap(self):\n",
    "        print(self.pq)"
   ]
  },
  {
   "cell_type": "code",
   "execution_count": 48,
   "metadata": {},
   "outputs": [
    {
     "name": "stdout",
     "output_type": "stream",
     "text": [
      "[23]\n",
      "[23, 90]\n",
      "[21, 90, 23]\n",
      "[6, 21, 23, 90]\n",
      "[6, 21, 23, 90, 73]\n"
     ]
    }
   ],
   "source": [
    "mh = heap()\n",
    "mh.insert(23)\n",
    "mh.printheap()\n",
    "mh.insert(90)\n",
    "mh.printheap()\n",
    "mh.insert(21)\n",
    "mh.printheap()\n",
    "mh.insert(6)\n",
    "mh.printheap()\n",
    "mh.insert(73)\n",
    "mh.printheap()"
   ]
  },
  {
   "cell_type": "code",
   "execution_count": 49,
   "metadata": {},
   "outputs": [
    {
     "name": "stdout",
     "output_type": "stream",
     "text": [
      "6\n",
      "[21, 73, 23, 90]\n",
      "21\n",
      "[23, 90, 73]\n",
      "23\n",
      "[73, 90]\n",
      "73\n",
      "[90]\n",
      "90\n",
      "[]\n",
      "-1\n",
      "[]\n"
     ]
    }
   ],
   "source": [
    "x = mh.delete()\n",
    "print(x)\n",
    "mh.printheap()\n",
    "\n",
    "x = mh.delete()\n",
    "print(x)\n",
    "mh.printheap()\n",
    "\n",
    "x = mh.delete()\n",
    "print(x)\n",
    "mh.printheap()\n",
    "\n",
    "x = mh.delete()\n",
    "print(x)\n",
    "mh.printheap()\n",
    "\n",
    "x = mh.delete()\n",
    "print(x)\n",
    "mh.printheap()\n",
    "\n",
    "x = mh.delete()\n",
    "print(x)\n",
    "mh.printheap()"
   ]
  },
  {
   "cell_type": "code",
   "execution_count": 50,
   "metadata": {},
   "outputs": [],
   "source": [
    "def heapSort(arr):\n",
    "    \n",
    "    hp = heap()\n",
    "    for ele in arr:\n",
    "        hp.insert(ele)\n",
    "    size = hp.getSize()\n",
    "    \n",
    "    for i in range(size):\n",
    "        arr[i] = hp.delete()"
   ]
  },
  {
   "cell_type": "code",
   "execution_count": 51,
   "metadata": {},
   "outputs": [
    {
     "name": "stdout",
     "output_type": "stream",
     "text": [
      "[1, 2, 3, 4, 6, 8, 9]\n"
     ]
    }
   ],
   "source": [
    "arr = [1,9,4,2,3,8,6]\n",
    "heapSort(arr)\n",
    "print(arr)"
   ]
  },
  {
   "cell_type": "markdown",
   "metadata": {},
   "source": [
    "### inplace doing the heap sort "
   ]
  },
  {
   "cell_type": "markdown",
   "metadata": {},
   "source": [
    "Till now we have been \n",
    "  >> creating a heap structure \n",
    "  \n",
    "  >> adding data from arr to heap and \n",
    "    \n",
    "  >> then putting data back to array from heap  \n",
    "\n",
    "Lets now : \n",
    "\n",
    "  >> use the same array to convert that into an heap and then\n",
    "  \n",
    "  >> use the same array sort delete from heap and get it sorted."
   ]
  },
  {
   "cell_type": "markdown",
   "metadata": {},
   "source": [
    "arr = [12,11,23,1,13,17]\n",
    "\n",
    "    si and ei will create the hypothetical heaps \n",
    "    for the first round with one element,  si = ei = 0\n",
    "    then (si,ei) == (0,1)"
   ]
  },
  {
   "cell_type": "code",
   "execution_count": 70,
   "metadata": {},
   "outputs": [],
   "source": [
    "def heapUp(arr,si,ei):\n",
    "    \n",
    "    ci = ei\n",
    "    pi = (ei-1)//2\n",
    "    \n",
    "    while pi >= 0:\n",
    "        \n",
    "        minIdx = pi\n",
    "        \n",
    "        if arr[pi] > arr[ci]:\n",
    "            minIdx = ci\n",
    "            arr[pi] , arr[ci] = arr[ci], arr[pi]\n",
    "        if minIdx == pi :\n",
    "            break\n",
    "        ci = pi\n",
    "        pi = (ci-1)//2 "
   ]
  },
  {
   "cell_type": "code",
   "execution_count": 71,
   "metadata": {},
   "outputs": [],
   "source": [
    "def heapdown(arr,si,ei):\n",
    "    \n",
    "    ci = si\n",
    "    li = (2*ci) + 1\n",
    "    ri = (2*ci) + 2\n",
    "    \n",
    "    while li <= ei :\n",
    "        \n",
    "        minIdx = ci\n",
    "        \n",
    "        if arr[li]<arr[ci]:\n",
    "            minIdx = li \n",
    "            arr[li],arr[ci] = arr[ci], arr[li]\n",
    "        \n",
    "        if ri <= ei and arr[ri] < arr[ci]:\n",
    "            minIdx = ri\n",
    "            arr[ri],arr[ci] = arr[ci],arr[ri]\n",
    "        \n",
    "        if minIdx == ci:\n",
    "            break\n",
    "        \n",
    "        ci = minIdx\n",
    "        li = (2*ci) + 1\n",
    "        ri = (2*ci) + 2"
   ]
  },
  {
   "cell_type": "code",
   "execution_count": 78,
   "metadata": {},
   "outputs": [],
   "source": [
    "def heapSort(arr):\n",
    "    si = 0\n",
    "    for ei in range(1,len(arr)):\n",
    "        heapUp(arr,si = 0 ,ei = ei)\n",
    "    \n",
    "    #lets now start to delete the elemenets from heap one by one and add it at the end of the heap \n",
    "    \n",
    "    for i in range(len(arr)-1):\n",
    "        last_element  = arr[len(arr)-i-1]\n",
    "        arr[len(arr)-i-1] = arr[0]\n",
    "        arr[0] = last_element\n",
    "        heapdown(arr,si = 0,ei = len(arr)-i-2)"
   ]
  },
  {
   "cell_type": "code",
   "execution_count": 79,
   "metadata": {},
   "outputs": [
    {
     "name": "stdout",
     "output_type": "stream",
     "text": [
      "[21, 13, 11, 8, 6, 2, 1]\n"
     ]
    }
   ],
   "source": [
    "arr = [11,21,8,13,6,2,1]\n",
    "heapSort(arr)\n",
    "print(arr)"
   ]
  },
  {
   "cell_type": "code",
   "execution_count": 84,
   "metadata": {},
   "outputs": [
    {
     "name": "stdout",
     "output_type": "stream",
     "text": [
      "[23, 21, 19, 18, 17, 12]\n"
     ]
    }
   ],
   "source": [
    "arr = [12,18,19,21,23,17]\n",
    "heapSort(arr)\n",
    "print(arr)"
   ]
  },
  {
   "cell_type": "markdown",
   "metadata": {},
   "source": [
    "### HeapSort( arr)  with heapify( arr,si,ei ) logic "
   ]
  },
  {
   "cell_type": "markdown",
   "metadata": {},
   "source": [
    "Main Ideas are : \n",
    "    \n",
    "    1. While building heap you need NOT : (a) add element at the end and do (b) heapup at that index \n",
    "       \n",
    "       Just add all element like a normal list and then call heapDown kind of function called heapify(arr,si,ei) from \n",
    "            \n",
    "            Node No :  (n)//2 -1 till Node No : 0 \n",
    "     \n",
    "       This taks O(n) in-place of O(nlogn) unlike earlier appraoch.\n",
    "        \n",
    "    2. While deleting appraoch remains the same remove and call heapDown kind of function called heapify(arr,si,ei).\n",
    "    "
   ]
  },
  {
   "cell_type": "code",
   "execution_count": 121,
   "metadata": {},
   "outputs": [],
   "source": [
    "def heapify(arr,si,ei):\n",
    "    \n",
    "    ci = si\n",
    "    li = (2 * ci) + 1\n",
    "    ri = (2 * ci) + 2\n",
    "    \n",
    "    while li <= ei:\n",
    "        \n",
    "        minIdx = ci\n",
    "        \n",
    "        if arr[li] < arr[ci]:\n",
    "            minIdx = li \n",
    "            arr[ci],arr[li] = arr[li],arr[ci]\n",
    "            \n",
    "        if ri <= ei and arr[ri] < arr[ci]:\n",
    "            minIdx = ri\n",
    "            arr[ci],arr[ri] = arr[ri],arr[ci]\n",
    "            \n",
    "        if minIdx == ci:\n",
    "            break\n",
    "        \n",
    "        ci = minIdx\n",
    "        li = (2 * ci) + 1\n",
    "        ri = (2 * ci) + 2"
   ]
  },
  {
   "cell_type": "code",
   "execution_count": 124,
   "metadata": {},
   "outputs": [],
   "source": [
    "def HeapSort(arr):\n",
    "    n = len(arr)\n",
    "    \n",
    "    for i in range((n//2)-1 , -1 ,-1):\n",
    "        heapify(arr, si = i , ei = (n-1) )\n",
    "        \n",
    "    for i in range(len(arr)-1):\n",
    "        last_element = arr[len(arr) - i -1]\n",
    "        arr[len(arr) - i -1] = arr[0]\n",
    "        arr[0] = last_element\n",
    "        heapify(arr,si = 0 , ei = (len(arr)-i-2))"
   ]
  },
  {
   "cell_type": "code",
   "execution_count": 123,
   "metadata": {},
   "outputs": [
    {
     "name": "stdout",
     "output_type": "stream",
     "text": [
      "[13, 11, 9, 9, 6, 2]\n"
     ]
    }
   ],
   "source": [
    "arr = [11,9,13,2,6,9]\n",
    "HeapSort(arr)\n",
    "print(arr)"
   ]
  },
  {
   "cell_type": "code",
   "execution_count": null,
   "metadata": {},
   "outputs": [],
   "source": []
  },
  {
   "cell_type": "code",
   "execution_count": null,
   "metadata": {},
   "outputs": [],
   "source": []
  },
  {
   "cell_type": "code",
   "execution_count": null,
   "metadata": {},
   "outputs": [],
   "source": []
  },
  {
   "cell_type": "code",
   "execution_count": null,
   "metadata": {},
   "outputs": [],
   "source": []
  },
  {
   "cell_type": "code",
   "execution_count": null,
   "metadata": {},
   "outputs": [],
   "source": []
  },
  {
   "cell_type": "code",
   "execution_count": null,
   "metadata": {},
   "outputs": [],
   "source": []
  },
  {
   "cell_type": "code",
   "execution_count": null,
   "metadata": {},
   "outputs": [],
   "source": []
  },
  {
   "cell_type": "code",
   "execution_count": null,
   "metadata": {},
   "outputs": [],
   "source": []
  },
  {
   "cell_type": "code",
   "execution_count": 68,
   "metadata": {},
   "outputs": [
    {
     "name": "stdout",
     "output_type": "stream",
     "text": [
      "2\n",
      "1\n"
     ]
    }
   ],
   "source": [
    "print(-7%3)\n",
    "print(7%3)"
   ]
  },
  {
   "cell_type": "code",
   "execution_count": null,
   "metadata": {},
   "outputs": [],
   "source": []
  },
  {
   "cell_type": "code",
   "execution_count": null,
   "metadata": {},
   "outputs": [],
   "source": []
  },
  {
   "cell_type": "code",
   "execution_count": null,
   "metadata": {},
   "outputs": [],
   "source": []
  },
  {
   "cell_type": "code",
   "execution_count": null,
   "metadata": {},
   "outputs": [],
   "source": []
  }
 ],
 "metadata": {
  "kernelspec": {
   "display_name": "Python 3",
   "language": "python",
   "name": "python3"
  },
  "language_info": {
   "codemirror_mode": {
    "name": "ipython",
    "version": 3
   },
   "file_extension": ".py",
   "mimetype": "text/x-python",
   "name": "python",
   "nbconvert_exporter": "python",
   "pygments_lexer": "ipython3",
   "version": "3.8.6"
  }
 },
 "nbformat": 4,
 "nbformat_minor": 4
}
