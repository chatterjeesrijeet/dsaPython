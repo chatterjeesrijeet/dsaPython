{
 "cells": [
  {
   "cell_type": "code",
   "execution_count": 1,
   "metadata": {},
   "outputs": [],
   "source": [
    "arr = [11,13,17,19,21,22,23,23,23,23,23,23,23,23,28,29,29,31,38,42,53,58,61,64]\n",
    "X = 23\n",
    "solu = [6,13]"
   ]
  },
  {
   "cell_type": "code",
   "execution_count": 51,
   "metadata": {},
   "outputs": [],
   "source": [
    "def returnRangeIndexHelper(arr,X,idxrange,left = True,right = False):\n",
    "    \n",
    "    si , ei = 0 , len(arr)-1\n",
    "    \n",
    "    while si <= ei :\n",
    "        \n",
    "        mid = (si + ei)//2\n",
    "        \n",
    "        if arr[mid] == X :\n",
    "            \n",
    "            if left:\n",
    "                if mid == 0 or arr[mid-1] != X:\n",
    "                    idxrange[0] = mid\n",
    "                    break\n",
    "                else:\n",
    "                    ei = mid-1\n",
    "            \n",
    "            if right:\n",
    "                if mid == len(arr)-1 or arr[mid+1] != X:\n",
    "                    idxrange[1] = mid\n",
    "                    return\n",
    "                else:\n",
    "                    si = mid + 1\n",
    "                \n",
    "        \n",
    "        elif arr[mid] > X :\n",
    "            ei = mid - 1\n",
    "        \n",
    "        else:\n",
    "            si = mid + 1\n",
    "    \n",
    "    return idxrange\n",
    "                "
   ]
  },
  {
   "cell_type": "code",
   "execution_count": 53,
   "metadata": {},
   "outputs": [
    {
     "name": "stdout",
     "output_type": "stream",
     "text": [
      "3\n",
      "inside if\n",
      "inside first else\n",
      "1\n",
      "2\n",
      "inside if\n",
      "inside first if with 2\n",
      "3\n",
      "inside if\n",
      "inside second else\n",
      "5\n",
      "inside if\n",
      "inside second if with 5\n",
      "\n",
      "\n",
      "[2, 5]\n"
     ]
    }
   ],
   "source": [
    "arr = [11,13,17,17,17,17,21,23]\n",
    "X = 17\n",
    "orig_solu = [6,13]\n",
    "solution = [None,None]\n",
    "\n",
    "returnRangeIndexHelper(arr,X,solution,True,False)\n",
    "returnRangeIndexHelper(arr,X,solution,False,True)\n",
    "print(\"\\n\")\n",
    "print(solution)"
   ]
  },
  {
   "cell_type": "code",
   "execution_count": 50,
   "metadata": {},
   "outputs": [],
   "source": [
    "pred_sol"
   ]
  },
  {
   "cell_type": "code",
   "execution_count": 54,
   "metadata": {},
   "outputs": [
    {
     "name": "stdout",
     "output_type": "stream",
     "text": [
      "11\n",
      "inside if\n",
      "inside first else\n",
      "5\n",
      "8\n",
      "inside if\n",
      "inside first else\n",
      "6\n",
      "inside if\n",
      "inside first if with 6\n",
      "11\n",
      "inside if\n",
      "inside second else\n",
      "17\n",
      "14\n",
      "12\n",
      "inside if\n",
      "inside second else\n",
      "13\n",
      "inside if\n",
      "inside second if with 13\n",
      "\n",
      "\n",
      "[6, 13]\n"
     ]
    }
   ],
   "source": [
    "arr = [11,13,17,19,21,22,23,23,23,23,23,23,23,23,28,29,29,31,38,42,53,58,61,64]\n",
    "X = 23\n",
    "solu = [6,13]\n",
    "\n",
    "solution = [None,None]\n",
    "returnRangeIndexHelper(arr,X,solution,True,False)\n",
    "returnRangeIndexHelper(arr,X,solution,False,True)\n",
    "print(\"\\n\")\n",
    "print(solution)"
   ]
  },
  {
   "cell_type": "code",
   "execution_count": null,
   "metadata": {},
   "outputs": [],
   "source": []
  }
 ],
 "metadata": {
  "kernelspec": {
   "display_name": "Python 3",
   "language": "python",
   "name": "python3"
  },
  "language_info": {
   "codemirror_mode": {
    "name": "ipython",
    "version": 3
   },
   "file_extension": ".py",
   "mimetype": "text/x-python",
   "name": "python",
   "nbconvert_exporter": "python",
   "pygments_lexer": "ipython3",
   "version": "3.8.6"
  }
 },
 "nbformat": 4,
 "nbformat_minor": 4
}
