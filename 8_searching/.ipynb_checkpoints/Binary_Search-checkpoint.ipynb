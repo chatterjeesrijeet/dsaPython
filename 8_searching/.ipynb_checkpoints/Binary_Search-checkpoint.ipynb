{
 "cells": [
  {
   "cell_type": "markdown",
   "metadata": {},
   "source": [
    "### Recursive Code "
   ]
  },
  {
   "cell_type": "code",
   "execution_count": 49,
   "metadata": {},
   "outputs": [],
   "source": [
    "def f1(arr,ele):\n",
    "    \n",
    "    if len(arr) <= 0:\n",
    "        return -1\n",
    "    \n",
    "    si,ei = 0,len(arr)-1\n",
    "    mid = (si+ei)//2\n",
    "    \n",
    "    if arr[mid] == ele:\n",
    "        return mid\n",
    "    \n",
    "    elif ele < arr[mid]:\n",
    "        return f1(arr[:mid],ele)\n",
    "    \n",
    "    else:\n",
    "        idx = f1(arr[mid+1:],ele)\n",
    "        return -1 if idx == -1 else (mid+1)+idx"
   ]
  },
  {
   "cell_type": "code",
   "execution_count": 51,
   "metadata": {},
   "outputs": [
    {
     "name": "stdout",
     "output_type": "stream",
     "text": [
      "8\n"
     ]
    }
   ],
   "source": [
    "arr = [11,12,13,15,18,19,22,28,29,30]\n",
    "x = f1(arr,29)\n",
    "print(x)"
   ]
  },
  {
   "cell_type": "markdown",
   "metadata": {},
   "source": [
    "### Iterative Code "
   ]
  },
  {
   "cell_type": "code",
   "execution_count": 5,
   "metadata": {},
   "outputs": [],
   "source": [
    "def binarySearch(arr,ele):\n",
    "    \n",
    "    si,ei = 0,len(arr)-1\n",
    "    \n",
    "    while si <= ei: \n",
    "        \n",
    "        mid = (si + ei)//2\n",
    "        \n",
    "        if ele == arr[mid]:\n",
    "            return mid\n",
    "    \n",
    "        elif ele < arr[mid]:\n",
    "            ei = mid-1\n",
    "            \n",
    "        else:\n",
    "            si = mid +1\n",
    "    \n",
    "    return -1"
   ]
  },
  {
   "cell_type": "code",
   "execution_count": 18,
   "metadata": {},
   "outputs": [
    {
     "data": {
      "text/plain": [
       "1"
      ]
     },
     "execution_count": 18,
     "metadata": {},
     "output_type": "execute_result"
    }
   ],
   "source": [
    "arr = [11,12,13,15,18,19,22,28,29,30]\n",
    "binarySearch(arr,12)"
   ]
  },
  {
   "cell_type": "code",
   "execution_count": null,
   "metadata": {},
   "outputs": [],
   "source": []
  },
  {
   "cell_type": "code",
   "execution_count": null,
   "metadata": {},
   "outputs": [],
   "source": []
  },
  {
   "cell_type": "code",
   "execution_count": null,
   "metadata": {},
   "outputs": [],
   "source": []
  },
  {
   "cell_type": "code",
   "execution_count": null,
   "metadata": {},
   "outputs": [],
   "source": []
  },
  {
   "cell_type": "code",
   "execution_count": null,
   "metadata": {},
   "outputs": [],
   "source": []
  },
  {
   "cell_type": "code",
   "execution_count": null,
   "metadata": {},
   "outputs": [],
   "source": []
  },
  {
   "cell_type": "code",
   "execution_count": null,
   "metadata": {},
   "outputs": [],
   "source": []
  },
  {
   "cell_type": "code",
   "execution_count": null,
   "metadata": {},
   "outputs": [],
   "source": []
  },
  {
   "cell_type": "code",
   "execution_count": null,
   "metadata": {},
   "outputs": [],
   "source": []
  },
  {
   "cell_type": "code",
   "execution_count": null,
   "metadata": {},
   "outputs": [],
   "source": []
  }
 ],
 "metadata": {
  "kernelspec": {
   "display_name": "Python 3",
   "language": "python",
   "name": "python3"
  },
  "language_info": {
   "codemirror_mode": {
    "name": "ipython",
    "version": 3
   },
   "file_extension": ".py",
   "mimetype": "text/x-python",
   "name": "python",
   "nbconvert_exporter": "python",
   "pygments_lexer": "ipython3",
   "version": "3.8.6"
  }
 },
 "nbformat": 4,
 "nbformat_minor": 4
}
