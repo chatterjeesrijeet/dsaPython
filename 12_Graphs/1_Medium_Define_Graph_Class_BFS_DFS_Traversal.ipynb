{
 "cells": [
  {
   "cell_type": "code",
   "execution_count": 18,
   "metadata": {},
   "outputs": [],
   "source": [
    "import queue\n",
    "\n",
    "class Graph:\n",
    "    \n",
    "    def __init__(self,nv):\n",
    "        self.nv = nv\n",
    "        self.adjmat = [[-1 for i in range(self.nv)] for j in range(self.nv)]\n",
    "    \n",
    "    def insertEdge(self,v1,v2):\n",
    "        if self.adjmat[v1][v2] == -1:\n",
    "            self.adjmat[v1][v2] = 1\n",
    "            self.adjmat[v2][v1] = 1\n",
    "    \n",
    "    def removeEdge(self,v1,v2):\n",
    "        if self.adjmat[v1][v2]==1:\n",
    "            self.adjmat[v1][v2] = -1\n",
    "            self.adjmat[v2][v1] = -1\n",
    "            \n",
    "    def edgeExists(self,v1,v2):\n",
    "        return self.adjmat[v1][v2]==1\n",
    "            \n",
    "    \n",
    "    def BFSTraversal(self,sv = 0):\n",
    "        \n",
    "        q = queue.Queue()\n",
    "        visitednodes = [0 for i in range(self.nv)]\n",
    "        \n",
    "        visitednodes[sv] = 1\n",
    "        q.put(sv)\n",
    "        \n",
    "        while q.empty() != True:\n",
    "            \n",
    "            popped_node = q.get()\n",
    "            print(f\"visited Node id : {popped_node}\")\n",
    "            \n",
    "            for nodes in range(self.nv):\n",
    "                if self.adjmat[popped_node][nodes] == 1 and visitednodes[nodes] != 1:\n",
    "                    q.put(nodes)\n",
    "                    visitednodes[nodes] = 1\n",
    "            \n",
    "            \n",
    "    def DFSTraversal(self,sv = 0):\n",
    "        \n",
    "        visitednodes = [-1 for i in range(self.nv)]\n",
    "        self.dfshelper(sv,visitednodes)\n",
    "        \n",
    "    def dfshelper(self,sv,visitednodes):\n",
    "        \n",
    "        print(f\"The vertex visited: {sv}\")\n",
    "        visitednodes[sv] = 1\n",
    "        \n",
    "        for nodes in range(self.nv):\n",
    "            if self.adjmat[sv][nodes] == 1 and visitednodes[nodes] != 1:\n",
    "                self.dfshelper(nodes,visitednodes)\n",
    "            \n",
    "    def __str__(self):\n",
    "        return str(self.adjmat)"
   ]
  },
  {
   "cell_type": "code",
   "execution_count": 19,
   "metadata": {},
   "outputs": [
    {
     "name": "stdout",
     "output_type": "stream",
     "text": [
      "\n",
      "------------- After adding the edges the graph -------\n",
      "\n",
      "[[-1, 1, 1, 1, -1], [1, -1, -1, -1, 1], [1, -1, -1, 1, -1], [1, -1, 1, -1, 1], [-1, 1, -1, 1, -1]]\n",
      "\n",
      "------------- BFS Traversal Output of the Graph -------\n",
      "\n",
      "visited Node id : 0\n",
      "visited Node id : 1\n",
      "visited Node id : 2\n",
      "visited Node id : 3\n",
      "visited Node id : 4\n",
      "\n",
      "------------- DFS Traversal Output of the Graph -------\n",
      "\n",
      "The vertex visited: 0\n",
      "The vertex visited: 1\n",
      "The vertex visited: 4\n",
      "The vertex visited: 3\n",
      "The vertex visited: 2\n"
     ]
    }
   ],
   "source": [
    "g = Graph(5)\n",
    "\n",
    "g.insertEdge(0,1)\n",
    "g.insertEdge(0,2)\n",
    "g.insertEdge(0,3)\n",
    "g.insertEdge(2,3)\n",
    "g.insertEdge(1,4)\n",
    "g.insertEdge(3,4)\n",
    "\n",
    "print(\"\\n------------- After adding the edges the graph -------\\n\")\n",
    "print(g)\n",
    "\n",
    "print(\"\\n------------- BFS Traversal Output of the Graph -------\\n\")\n",
    "g.BFSTraversal()\n",
    "\n",
    "print(\"\\n------------- DFS Traversal Output of the Graph -------\\n\")\n",
    "g.DFSTraversal()"
   ]
  },
  {
   "cell_type": "code",
   "execution_count": null,
   "metadata": {},
   "outputs": [],
   "source": []
  },
  {
   "cell_type": "code",
   "execution_count": null,
   "metadata": {},
   "outputs": [],
   "source": []
  },
  {
   "cell_type": "code",
   "execution_count": null,
   "metadata": {},
   "outputs": [],
   "source": []
  }
 ],
 "metadata": {
  "kernelspec": {
   "display_name": "Python 3",
   "language": "python",
   "name": "python3"
  },
  "language_info": {
   "codemirror_mode": {
    "name": "ipython",
    "version": 3
   },
   "file_extension": ".py",
   "mimetype": "text/x-python",
   "name": "python",
   "nbconvert_exporter": "python",
   "pygments_lexer": "ipython3",
   "version": "3.8.6"
  }
 },
 "nbformat": 4,
 "nbformat_minor": 4
}
